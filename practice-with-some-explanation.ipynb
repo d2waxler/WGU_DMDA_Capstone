{
 "cells": [
  {
   "cell_type": "code",
   "execution_count": 1,
   "id": "96bb6955",
   "metadata": {
    "_cell_guid": "b1076dfc-b9ad-4769-8c92-a6c4dae69d19",
    "_uuid": "8f2839f25d086af736a60e9eeb907d3b93b6e0e5",
    "execution": {
     "iopub.execute_input": "2021-11-07T10:52:46.437166Z",
     "iopub.status.busy": "2021-11-07T10:52:46.435887Z",
     "iopub.status.idle": "2021-11-07T10:52:46.457556Z",
     "shell.execute_reply": "2021-11-07T10:52:46.456717Z",
     "shell.execute_reply.started": "2021-11-07T10:41:44.267708Z"
    },
    "papermill": {
     "duration": 0.048011,
     "end_time": "2021-11-07T10:52:46.457804",
     "exception": false,
     "start_time": "2021-11-07T10:52:46.409793",
     "status": "completed"
    },
    "tags": []
   },
   "outputs": [
    {
     "name": "stdout",
     "output_type": "stream",
     "text": [
      "/kaggle/input/heart-failure-prediction/heart.csv\n"
     ]
    }
   ],
   "source": [
    "# This Python 3 environment comes with many helpful analytics libraries installed\n",
    "# It is defined by the kaggle/python Docker image: https://github.com/kaggle/docker-python\n",
    "# For example, here's several helpful packages to load\n",
    "\n",
    "import numpy as np # linear algebra\n",
    "import pandas as pd # data processing, CSV file I/O (e.g. pd.read_csv)\n",
    "\n",
    "# Input data files are available in the read-only \"../input/\" directory\n",
    "# For example, running this (by clicking run or pressing Shift+Enter) will list all files under the input directory\n",
    "\n",
    "import os\n",
    "for dirname, _, filenames in os.walk('/kaggle/input'):\n",
    "    for filename in filenames:\n",
    "        print(os.path.join(dirname, filename))\n",
    "\n",
    "# You can write up to 20GB to the current directory (/kaggle/working/) that gets preserved as output when you create a version using \"Save & Run All\" \n",
    "# You can also write temporary files to /kaggle/temp/, but they won't be saved outside of the current session"
   ]
  },
  {
   "cell_type": "code",
   "execution_count": 2,
   "id": "d5de0bf0",
   "metadata": {
    "execution": {
     "iopub.execute_input": "2021-11-07T10:52:46.511717Z",
     "iopub.status.busy": "2021-11-07T10:52:46.510860Z",
     "iopub.status.idle": "2021-11-07T10:52:46.514318Z",
     "shell.execute_reply": "2021-11-07T10:52:46.513748Z",
     "shell.execute_reply.started": "2021-11-07T10:41:48.732234Z"
    },
    "papermill": {
     "duration": 0.032505,
     "end_time": "2021-11-07T10:52:46.514484",
     "exception": false,
     "start_time": "2021-11-07T10:52:46.481979",
     "status": "completed"
    },
    "tags": []
   },
   "outputs": [],
   "source": [
    "import copy"
   ]
  },
  {
   "cell_type": "code",
   "execution_count": 3,
   "id": "b6471f8f",
   "metadata": {
    "execution": {
     "iopub.execute_input": "2021-11-07T10:52:46.558689Z",
     "iopub.status.busy": "2021-11-07T10:52:46.557674Z",
     "iopub.status.idle": "2021-11-07T10:52:46.618980Z",
     "shell.execute_reply": "2021-11-07T10:52:46.619515Z",
     "shell.execute_reply.started": "2021-11-07T10:41:53.438523Z"
    },
    "papermill": {
     "duration": 0.085208,
     "end_time": "2021-11-07T10:52:46.619762",
     "exception": false,
     "start_time": "2021-11-07T10:52:46.534554",
     "status": "completed"
    },
    "tags": []
   },
   "outputs": [
    {
     "data": {
      "text/html": [
       "<div>\n",
       "<style scoped>\n",
       "    .dataframe tbody tr th:only-of-type {\n",
       "        vertical-align: middle;\n",
       "    }\n",
       "\n",
       "    .dataframe tbody tr th {\n",
       "        vertical-align: top;\n",
       "    }\n",
       "\n",
       "    .dataframe thead th {\n",
       "        text-align: right;\n",
       "    }\n",
       "</style>\n",
       "<table border=\"1\" class=\"dataframe\">\n",
       "  <thead>\n",
       "    <tr style=\"text-align: right;\">\n",
       "      <th></th>\n",
       "      <th>Age</th>\n",
       "      <th>Sex</th>\n",
       "      <th>ChestPainType</th>\n",
       "      <th>RestingBP</th>\n",
       "      <th>Cholesterol</th>\n",
       "      <th>FastingBS</th>\n",
       "      <th>RestingECG</th>\n",
       "      <th>MaxHR</th>\n",
       "      <th>ExerciseAngina</th>\n",
       "      <th>Oldpeak</th>\n",
       "      <th>ST_Slope</th>\n",
       "      <th>HeartDisease</th>\n",
       "    </tr>\n",
       "  </thead>\n",
       "  <tbody>\n",
       "    <tr>\n",
       "      <th>0</th>\n",
       "      <td>40</td>\n",
       "      <td>M</td>\n",
       "      <td>ATA</td>\n",
       "      <td>140</td>\n",
       "      <td>289</td>\n",
       "      <td>0</td>\n",
       "      <td>Normal</td>\n",
       "      <td>172</td>\n",
       "      <td>N</td>\n",
       "      <td>0.0</td>\n",
       "      <td>Up</td>\n",
       "      <td>0</td>\n",
       "    </tr>\n",
       "    <tr>\n",
       "      <th>1</th>\n",
       "      <td>49</td>\n",
       "      <td>F</td>\n",
       "      <td>NAP</td>\n",
       "      <td>160</td>\n",
       "      <td>180</td>\n",
       "      <td>0</td>\n",
       "      <td>Normal</td>\n",
       "      <td>156</td>\n",
       "      <td>N</td>\n",
       "      <td>1.0</td>\n",
       "      <td>Flat</td>\n",
       "      <td>1</td>\n",
       "    </tr>\n",
       "    <tr>\n",
       "      <th>2</th>\n",
       "      <td>37</td>\n",
       "      <td>M</td>\n",
       "      <td>ATA</td>\n",
       "      <td>130</td>\n",
       "      <td>283</td>\n",
       "      <td>0</td>\n",
       "      <td>ST</td>\n",
       "      <td>98</td>\n",
       "      <td>N</td>\n",
       "      <td>0.0</td>\n",
       "      <td>Up</td>\n",
       "      <td>0</td>\n",
       "    </tr>\n",
       "    <tr>\n",
       "      <th>3</th>\n",
       "      <td>48</td>\n",
       "      <td>F</td>\n",
       "      <td>ASY</td>\n",
       "      <td>138</td>\n",
       "      <td>214</td>\n",
       "      <td>0</td>\n",
       "      <td>Normal</td>\n",
       "      <td>108</td>\n",
       "      <td>Y</td>\n",
       "      <td>1.5</td>\n",
       "      <td>Flat</td>\n",
       "      <td>1</td>\n",
       "    </tr>\n",
       "    <tr>\n",
       "      <th>4</th>\n",
       "      <td>54</td>\n",
       "      <td>M</td>\n",
       "      <td>NAP</td>\n",
       "      <td>150</td>\n",
       "      <td>195</td>\n",
       "      <td>0</td>\n",
       "      <td>Normal</td>\n",
       "      <td>122</td>\n",
       "      <td>N</td>\n",
       "      <td>0.0</td>\n",
       "      <td>Up</td>\n",
       "      <td>0</td>\n",
       "    </tr>\n",
       "    <tr>\n",
       "      <th>5</th>\n",
       "      <td>39</td>\n",
       "      <td>M</td>\n",
       "      <td>NAP</td>\n",
       "      <td>120</td>\n",
       "      <td>339</td>\n",
       "      <td>0</td>\n",
       "      <td>Normal</td>\n",
       "      <td>170</td>\n",
       "      <td>N</td>\n",
       "      <td>0.0</td>\n",
       "      <td>Up</td>\n",
       "      <td>0</td>\n",
       "    </tr>\n",
       "    <tr>\n",
       "      <th>6</th>\n",
       "      <td>45</td>\n",
       "      <td>F</td>\n",
       "      <td>ATA</td>\n",
       "      <td>130</td>\n",
       "      <td>237</td>\n",
       "      <td>0</td>\n",
       "      <td>Normal</td>\n",
       "      <td>170</td>\n",
       "      <td>N</td>\n",
       "      <td>0.0</td>\n",
       "      <td>Up</td>\n",
       "      <td>0</td>\n",
       "    </tr>\n",
       "    <tr>\n",
       "      <th>7</th>\n",
       "      <td>54</td>\n",
       "      <td>M</td>\n",
       "      <td>ATA</td>\n",
       "      <td>110</td>\n",
       "      <td>208</td>\n",
       "      <td>0</td>\n",
       "      <td>Normal</td>\n",
       "      <td>142</td>\n",
       "      <td>N</td>\n",
       "      <td>0.0</td>\n",
       "      <td>Up</td>\n",
       "      <td>0</td>\n",
       "    </tr>\n",
       "    <tr>\n",
       "      <th>8</th>\n",
       "      <td>37</td>\n",
       "      <td>M</td>\n",
       "      <td>ASY</td>\n",
       "      <td>140</td>\n",
       "      <td>207</td>\n",
       "      <td>0</td>\n",
       "      <td>Normal</td>\n",
       "      <td>130</td>\n",
       "      <td>Y</td>\n",
       "      <td>1.5</td>\n",
       "      <td>Flat</td>\n",
       "      <td>1</td>\n",
       "    </tr>\n",
       "    <tr>\n",
       "      <th>9</th>\n",
       "      <td>48</td>\n",
       "      <td>F</td>\n",
       "      <td>ATA</td>\n",
       "      <td>120</td>\n",
       "      <td>284</td>\n",
       "      <td>0</td>\n",
       "      <td>Normal</td>\n",
       "      <td>120</td>\n",
       "      <td>N</td>\n",
       "      <td>0.0</td>\n",
       "      <td>Up</td>\n",
       "      <td>0</td>\n",
       "    </tr>\n",
       "  </tbody>\n",
       "</table>\n",
       "</div>"
      ],
      "text/plain": [
       "   Age Sex ChestPainType  RestingBP  Cholesterol  FastingBS RestingECG  MaxHR  \\\n",
       "0   40   M           ATA        140          289          0     Normal    172   \n",
       "1   49   F           NAP        160          180          0     Normal    156   \n",
       "2   37   M           ATA        130          283          0         ST     98   \n",
       "3   48   F           ASY        138          214          0     Normal    108   \n",
       "4   54   M           NAP        150          195          0     Normal    122   \n",
       "5   39   M           NAP        120          339          0     Normal    170   \n",
       "6   45   F           ATA        130          237          0     Normal    170   \n",
       "7   54   M           ATA        110          208          0     Normal    142   \n",
       "8   37   M           ASY        140          207          0     Normal    130   \n",
       "9   48   F           ATA        120          284          0     Normal    120   \n",
       "\n",
       "  ExerciseAngina  Oldpeak ST_Slope  HeartDisease  \n",
       "0              N      0.0       Up             0  \n",
       "1              N      1.0     Flat             1  \n",
       "2              N      0.0       Up             0  \n",
       "3              Y      1.5     Flat             1  \n",
       "4              N      0.0       Up             0  \n",
       "5              N      0.0       Up             0  \n",
       "6              N      0.0       Up             0  \n",
       "7              N      0.0       Up             0  \n",
       "8              Y      1.5     Flat             1  \n",
       "9              N      0.0       Up             0  "
      ]
     },
     "execution_count": 3,
     "metadata": {},
     "output_type": "execute_result"
    }
   ],
   "source": [
    "first_df = pd.read_csv(\"/kaggle/input/heart-failure-prediction/heart.csv\")\n",
    "copy_df = copy.deepcopy(first_df)\n",
    "copy_df.head(10)"
   ]
  },
  {
   "cell_type": "code",
   "execution_count": 4,
   "id": "bb01ca92",
   "metadata": {
    "execution": {
     "iopub.execute_input": "2021-11-07T10:52:46.689825Z",
     "iopub.status.busy": "2021-11-07T10:52:46.688976Z",
     "iopub.status.idle": "2021-11-07T10:52:46.692566Z",
     "shell.execute_reply": "2021-11-07T10:52:46.693159Z",
     "shell.execute_reply.started": "2021-11-07T10:41:54.606451Z"
    },
    "papermill": {
     "duration": 0.05287,
     "end_time": "2021-11-07T10:52:46.693363",
     "exception": false,
     "start_time": "2021-11-07T10:52:46.640493",
     "status": "completed"
    },
    "tags": []
   },
   "outputs": [
    {
     "name": "stdout",
     "output_type": "stream",
     "text": [
      "<class 'pandas.core.frame.DataFrame'>\n",
      "RangeIndex: 918 entries, 0 to 917\n",
      "Data columns (total 12 columns):\n",
      " #   Column          Non-Null Count  Dtype  \n",
      "---  ------          --------------  -----  \n",
      " 0   Age             918 non-null    int64  \n",
      " 1   Sex             918 non-null    object \n",
      " 2   ChestPainType   918 non-null    object \n",
      " 3   RestingBP       918 non-null    int64  \n",
      " 4   Cholesterol     918 non-null    int64  \n",
      " 5   FastingBS       918 non-null    int64  \n",
      " 6   RestingECG      918 non-null    object \n",
      " 7   MaxHR           918 non-null    int64  \n",
      " 8   ExerciseAngina  918 non-null    object \n",
      " 9   Oldpeak         918 non-null    float64\n",
      " 10  ST_Slope        918 non-null    object \n",
      " 11  HeartDisease    918 non-null    int64  \n",
      "dtypes: float64(1), int64(6), object(5)\n",
      "memory usage: 86.2+ KB\n"
     ]
    }
   ],
   "source": [
    "copy_df.info()"
   ]
  },
  {
   "cell_type": "code",
   "execution_count": 5,
   "id": "a96d20a3",
   "metadata": {
    "execution": {
     "iopub.execute_input": "2021-11-07T10:52:46.740407Z",
     "iopub.status.busy": "2021-11-07T10:52:46.739283Z",
     "iopub.status.idle": "2021-11-07T10:52:46.746836Z",
     "shell.execute_reply": "2021-11-07T10:52:46.747452Z",
     "shell.execute_reply.started": "2021-11-07T10:41:55.442604Z"
    },
    "papermill": {
     "duration": 0.03271,
     "end_time": "2021-11-07T10:52:46.747670",
     "exception": false,
     "start_time": "2021-11-07T10:52:46.714960",
     "status": "completed"
    },
    "tags": []
   },
   "outputs": [],
   "source": [
    "# maybe i can use one-hot encoding..? im not sure.. i just change this value mannualy\n",
    "copy_df['Sex'].replace('M',0, inplace=True)\n",
    "copy_df['Sex'].replace('F',1, inplace=True)"
   ]
  },
  {
   "cell_type": "code",
   "execution_count": 6,
   "id": "538faedf",
   "metadata": {
    "execution": {
     "iopub.execute_input": "2021-11-07T10:52:46.795887Z",
     "iopub.status.busy": "2021-11-07T10:52:46.794757Z",
     "iopub.status.idle": "2021-11-07T10:52:46.820992Z",
     "shell.execute_reply": "2021-11-07T10:52:46.821555Z",
     "shell.execute_reply.started": "2021-11-07T10:41:56.339048Z"
    },
    "papermill": {
     "duration": 0.051962,
     "end_time": "2021-11-07T10:52:46.821810",
     "exception": false,
     "start_time": "2021-11-07T10:52:46.769848",
     "status": "completed"
    },
    "tags": []
   },
   "outputs": [
    {
     "data": {
      "text/html": [
       "<div>\n",
       "<style scoped>\n",
       "    .dataframe tbody tr th:only-of-type {\n",
       "        vertical-align: middle;\n",
       "    }\n",
       "\n",
       "    .dataframe tbody tr th {\n",
       "        vertical-align: top;\n",
       "    }\n",
       "\n",
       "    .dataframe thead th {\n",
       "        text-align: right;\n",
       "    }\n",
       "</style>\n",
       "<table border=\"1\" class=\"dataframe\">\n",
       "  <thead>\n",
       "    <tr style=\"text-align: right;\">\n",
       "      <th></th>\n",
       "      <th>Age</th>\n",
       "      <th>Sex</th>\n",
       "      <th>ChestPainType</th>\n",
       "      <th>RestingBP</th>\n",
       "      <th>Cholesterol</th>\n",
       "      <th>FastingBS</th>\n",
       "      <th>RestingECG</th>\n",
       "      <th>MaxHR</th>\n",
       "      <th>ExerciseAngina</th>\n",
       "      <th>Oldpeak</th>\n",
       "      <th>ST_Slope</th>\n",
       "      <th>HeartDisease</th>\n",
       "    </tr>\n",
       "  </thead>\n",
       "  <tbody>\n",
       "    <tr>\n",
       "      <th>0</th>\n",
       "      <td>40</td>\n",
       "      <td>0</td>\n",
       "      <td>ATA</td>\n",
       "      <td>140</td>\n",
       "      <td>289</td>\n",
       "      <td>0</td>\n",
       "      <td>Normal</td>\n",
       "      <td>172</td>\n",
       "      <td>N</td>\n",
       "      <td>0.0</td>\n",
       "      <td>Up</td>\n",
       "      <td>0</td>\n",
       "    </tr>\n",
       "    <tr>\n",
       "      <th>1</th>\n",
       "      <td>49</td>\n",
       "      <td>1</td>\n",
       "      <td>NAP</td>\n",
       "      <td>160</td>\n",
       "      <td>180</td>\n",
       "      <td>0</td>\n",
       "      <td>Normal</td>\n",
       "      <td>156</td>\n",
       "      <td>N</td>\n",
       "      <td>1.0</td>\n",
       "      <td>Flat</td>\n",
       "      <td>1</td>\n",
       "    </tr>\n",
       "    <tr>\n",
       "      <th>2</th>\n",
       "      <td>37</td>\n",
       "      <td>0</td>\n",
       "      <td>ATA</td>\n",
       "      <td>130</td>\n",
       "      <td>283</td>\n",
       "      <td>0</td>\n",
       "      <td>ST</td>\n",
       "      <td>98</td>\n",
       "      <td>N</td>\n",
       "      <td>0.0</td>\n",
       "      <td>Up</td>\n",
       "      <td>0</td>\n",
       "    </tr>\n",
       "    <tr>\n",
       "      <th>3</th>\n",
       "      <td>48</td>\n",
       "      <td>1</td>\n",
       "      <td>ASY</td>\n",
       "      <td>138</td>\n",
       "      <td>214</td>\n",
       "      <td>0</td>\n",
       "      <td>Normal</td>\n",
       "      <td>108</td>\n",
       "      <td>Y</td>\n",
       "      <td>1.5</td>\n",
       "      <td>Flat</td>\n",
       "      <td>1</td>\n",
       "    </tr>\n",
       "    <tr>\n",
       "      <th>4</th>\n",
       "      <td>54</td>\n",
       "      <td>0</td>\n",
       "      <td>NAP</td>\n",
       "      <td>150</td>\n",
       "      <td>195</td>\n",
       "      <td>0</td>\n",
       "      <td>Normal</td>\n",
       "      <td>122</td>\n",
       "      <td>N</td>\n",
       "      <td>0.0</td>\n",
       "      <td>Up</td>\n",
       "      <td>0</td>\n",
       "    </tr>\n",
       "    <tr>\n",
       "      <th>...</th>\n",
       "      <td>...</td>\n",
       "      <td>...</td>\n",
       "      <td>...</td>\n",
       "      <td>...</td>\n",
       "      <td>...</td>\n",
       "      <td>...</td>\n",
       "      <td>...</td>\n",
       "      <td>...</td>\n",
       "      <td>...</td>\n",
       "      <td>...</td>\n",
       "      <td>...</td>\n",
       "      <td>...</td>\n",
       "    </tr>\n",
       "    <tr>\n",
       "      <th>913</th>\n",
       "      <td>45</td>\n",
       "      <td>0</td>\n",
       "      <td>TA</td>\n",
       "      <td>110</td>\n",
       "      <td>264</td>\n",
       "      <td>0</td>\n",
       "      <td>Normal</td>\n",
       "      <td>132</td>\n",
       "      <td>N</td>\n",
       "      <td>1.2</td>\n",
       "      <td>Flat</td>\n",
       "      <td>1</td>\n",
       "    </tr>\n",
       "    <tr>\n",
       "      <th>914</th>\n",
       "      <td>68</td>\n",
       "      <td>0</td>\n",
       "      <td>ASY</td>\n",
       "      <td>144</td>\n",
       "      <td>193</td>\n",
       "      <td>1</td>\n",
       "      <td>Normal</td>\n",
       "      <td>141</td>\n",
       "      <td>N</td>\n",
       "      <td>3.4</td>\n",
       "      <td>Flat</td>\n",
       "      <td>1</td>\n",
       "    </tr>\n",
       "    <tr>\n",
       "      <th>915</th>\n",
       "      <td>57</td>\n",
       "      <td>0</td>\n",
       "      <td>ASY</td>\n",
       "      <td>130</td>\n",
       "      <td>131</td>\n",
       "      <td>0</td>\n",
       "      <td>Normal</td>\n",
       "      <td>115</td>\n",
       "      <td>Y</td>\n",
       "      <td>1.2</td>\n",
       "      <td>Flat</td>\n",
       "      <td>1</td>\n",
       "    </tr>\n",
       "    <tr>\n",
       "      <th>916</th>\n",
       "      <td>57</td>\n",
       "      <td>1</td>\n",
       "      <td>ATA</td>\n",
       "      <td>130</td>\n",
       "      <td>236</td>\n",
       "      <td>0</td>\n",
       "      <td>LVH</td>\n",
       "      <td>174</td>\n",
       "      <td>N</td>\n",
       "      <td>0.0</td>\n",
       "      <td>Flat</td>\n",
       "      <td>1</td>\n",
       "    </tr>\n",
       "    <tr>\n",
       "      <th>917</th>\n",
       "      <td>38</td>\n",
       "      <td>0</td>\n",
       "      <td>NAP</td>\n",
       "      <td>138</td>\n",
       "      <td>175</td>\n",
       "      <td>0</td>\n",
       "      <td>Normal</td>\n",
       "      <td>173</td>\n",
       "      <td>N</td>\n",
       "      <td>0.0</td>\n",
       "      <td>Up</td>\n",
       "      <td>0</td>\n",
       "    </tr>\n",
       "  </tbody>\n",
       "</table>\n",
       "<p>918 rows × 12 columns</p>\n",
       "</div>"
      ],
      "text/plain": [
       "     Age  Sex ChestPainType  RestingBP  Cholesterol  FastingBS RestingECG  \\\n",
       "0     40    0           ATA        140          289          0     Normal   \n",
       "1     49    1           NAP        160          180          0     Normal   \n",
       "2     37    0           ATA        130          283          0         ST   \n",
       "3     48    1           ASY        138          214          0     Normal   \n",
       "4     54    0           NAP        150          195          0     Normal   \n",
       "..   ...  ...           ...        ...          ...        ...        ...   \n",
       "913   45    0            TA        110          264          0     Normal   \n",
       "914   68    0           ASY        144          193          1     Normal   \n",
       "915   57    0           ASY        130          131          0     Normal   \n",
       "916   57    1           ATA        130          236          0        LVH   \n",
       "917   38    0           NAP        138          175          0     Normal   \n",
       "\n",
       "     MaxHR ExerciseAngina  Oldpeak ST_Slope  HeartDisease  \n",
       "0      172              N      0.0       Up             0  \n",
       "1      156              N      1.0     Flat             1  \n",
       "2       98              N      0.0       Up             0  \n",
       "3      108              Y      1.5     Flat             1  \n",
       "4      122              N      0.0       Up             0  \n",
       "..     ...            ...      ...      ...           ...  \n",
       "913    132              N      1.2     Flat             1  \n",
       "914    141              N      3.4     Flat             1  \n",
       "915    115              Y      1.2     Flat             1  \n",
       "916    174              N      0.0     Flat             1  \n",
       "917    173              N      0.0       Up             0  \n",
       "\n",
       "[918 rows x 12 columns]"
      ]
     },
     "execution_count": 6,
     "metadata": {},
     "output_type": "execute_result"
    }
   ],
   "source": [
    "copy_df"
   ]
  },
  {
   "cell_type": "code",
   "execution_count": 7,
   "id": "b4850b2e",
   "metadata": {
    "execution": {
     "iopub.execute_input": "2021-11-07T10:52:46.870645Z",
     "iopub.status.busy": "2021-11-07T10:52:46.869543Z",
     "iopub.status.idle": "2021-11-07T10:52:47.914301Z",
     "shell.execute_reply": "2021-11-07T10:52:47.913644Z",
     "shell.execute_reply.started": "2021-11-07T10:41:57.095847Z"
    },
    "papermill": {
     "duration": 1.070493,
     "end_time": "2021-11-07T10:52:47.914460",
     "exception": false,
     "start_time": "2021-11-07T10:52:46.843967",
     "status": "completed"
    },
    "tags": []
   },
   "outputs": [],
   "source": [
    "import seaborn as sns"
   ]
  },
  {
   "cell_type": "code",
   "execution_count": 8,
   "id": "603208f4",
   "metadata": {
    "execution": {
     "iopub.execute_input": "2021-11-07T10:52:47.965846Z",
     "iopub.status.busy": "2021-11-07T10:52:47.963631Z",
     "iopub.status.idle": "2021-11-07T10:52:48.874236Z",
     "shell.execute_reply": "2021-11-07T10:52:48.874820Z",
     "shell.execute_reply.started": "2021-11-07T10:41:58.300492Z"
    },
    "papermill": {
     "duration": 0.938907,
     "end_time": "2021-11-07T10:52:48.875031",
     "exception": false,
     "start_time": "2021-11-07T10:52:47.936124",
     "status": "completed"
    },
    "tags": []
   },
   "outputs": [
    {
     "data": {
      "text/plain": [
       "<AxesSubplot:>"
      ]
     },
     "execution_count": 8,
     "metadata": {},
     "output_type": "execute_result"
    },
    {
     "data": {
      "image/png": "[encoded data removed]",
      "text/plain": [
       "<Figure size 432x288 with 2 Axes>"
      ]
     },
     "metadata": {
      "needs_background": "light"
     },
     "output_type": "display_data"
    }
   ],
   "source": [
    "# it skips which dtype is obejct, since they cannot be represent as numeric data unless i change them... so only numeric values's correlations are displayed\n",
    "sns.heatmap(copy_df.corr(), annot=True)"
   ]
  },
  {
   "cell_type": "code",
   "execution_count": 9,
   "id": "c18b1719",
   "metadata": {
    "execution": {
     "iopub.execute_input": "2021-11-07T10:52:48.929225Z",
     "iopub.status.busy": "2021-11-07T10:52:48.928399Z",
     "iopub.status.idle": "2021-11-07T10:52:49.073813Z",
     "shell.execute_reply": "2021-11-07T10:52:49.073176Z",
     "shell.execute_reply.started": "2021-11-07T10:41:59.546484Z"
    },
    "papermill": {
     "duration": 0.174965,
     "end_time": "2021-11-07T10:52:49.073997",
     "exception": false,
     "start_time": "2021-11-07T10:52:48.899032",
     "status": "completed"
    },
    "tags": []
   },
   "outputs": [],
   "source": [
    "# maybe i can try labelEncoding to change obejct values into numeric values\n",
    "from sklearn import preprocessing"
   ]
  },
  {
   "cell_type": "code",
   "execution_count": 10,
   "id": "17995f53",
   "metadata": {
    "execution": {
     "iopub.execute_input": "2021-11-07T10:52:49.137986Z",
     "iopub.status.busy": "2021-11-07T10:52:49.137142Z",
     "iopub.status.idle": "2021-11-07T10:52:49.140396Z",
     "shell.execute_reply": "2021-11-07T10:52:49.140950Z",
     "shell.execute_reply.started": "2021-11-07T10:42:00.508991Z"
    },
    "papermill": {
     "duration": 0.042763,
     "end_time": "2021-11-07T10:52:49.141164",
     "exception": false,
     "start_time": "2021-11-07T10:52:49.098401",
     "status": "completed"
    },
    "tags": []
   },
   "outputs": [
    {
     "name": "stdout",
     "output_type": "stream",
     "text": [
      "<class 'pandas.core.frame.DataFrame'>\n",
      "RangeIndex: 918 entries, 0 to 917\n",
      "Data columns (total 12 columns):\n",
      " #   Column          Non-Null Count  Dtype  \n",
      "---  ------          --------------  -----  \n",
      " 0   Age             918 non-null    int64  \n",
      " 1   Sex             918 non-null    int64  \n",
      " 2   ChestPainType   918 non-null    object \n",
      " 3   RestingBP       918 non-null    int64  \n",
      " 4   Cholesterol     918 non-null    int64  \n",
      " 5   FastingBS       918 non-null    int64  \n",
      " 6   RestingECG      918 non-null    object \n",
      " 7   MaxHR           918 non-null    int64  \n",
      " 8   ExerciseAngina  918 non-null    object \n",
      " 9   Oldpeak         918 non-null    float64\n",
      " 10  ST_Slope        918 non-null    object \n",
      " 11  HeartDisease    918 non-null    int64  \n",
      "dtypes: float64(1), int64(7), object(4)\n",
      "memory usage: 86.2+ KB\n"
     ]
    }
   ],
   "source": [
    "copy_df.info()"
   ]
  },
  {
   "cell_type": "code",
   "execution_count": 11,
   "id": "6bd03f45",
   "metadata": {
    "execution": {
     "iopub.execute_input": "2021-11-07T10:52:49.197856Z",
     "iopub.status.busy": "2021-11-07T10:52:49.197072Z",
     "iopub.status.idle": "2021-11-07T10:52:49.201514Z",
     "shell.execute_reply": "2021-11-07T10:52:49.200863Z",
     "shell.execute_reply.started": "2021-11-07T10:42:01.485098Z"
    },
    "papermill": {
     "duration": 0.036361,
     "end_time": "2021-11-07T10:52:49.201685",
     "exception": false,
     "start_time": "2021-11-07T10:52:49.165324",
     "status": "completed"
    },
    "tags": []
   },
   "outputs": [
    {
     "name": "stdout",
     "output_type": "stream",
     "text": [
      "['ATA' 'NAP' 'ASY' 'TA']\n",
      "['Normal' 'ST' 'LVH']\n",
      "['N' 'Y']\n",
      "['Up' 'Flat' 'Down']\n"
     ]
    }
   ],
   "source": [
    "# let's first check unique of each object type columns's values before we use labelEncoding\n",
    "print(copy_df['ChestPainType'].unique())\n",
    "print(copy_df['RestingECG'].unique())\n",
    "print(copy_df['ExerciseAngina'].unique())\n",
    "print(copy_df['ST_Slope'].unique())"
   ]
  },
  {
   "cell_type": "code",
   "execution_count": 12,
   "id": "019712ab",
   "metadata": {
    "execution": {
     "iopub.execute_input": "2021-11-07T10:52:49.258139Z",
     "iopub.status.busy": "2021-11-07T10:52:49.254403Z",
     "iopub.status.idle": "2021-11-07T10:52:49.263519Z",
     "shell.execute_reply": "2021-11-07T10:52:49.264097Z",
     "shell.execute_reply.started": "2021-11-07T10:42:02.427175Z"
    },
    "papermill": {
     "duration": 0.037863,
     "end_time": "2021-11-07T10:52:49.264312",
     "exception": false,
     "start_time": "2021-11-07T10:52:49.226449",
     "status": "completed"
    },
    "tags": []
   },
   "outputs": [],
   "source": [
    "# I refer to this code from sklearn official webpage.. here is the link\n",
    "# https://scikit-learn.org/stable/modules/generated/sklearn.preprocessing.LabelEncoder.html\n",
    "le = preprocessing.LabelEncoder()\n",
    "\n",
    "copy_df['ChestPainType']=le.fit_transform(copy_df['ChestPainType'])\n",
    "copy_df['RestingECG']=le.fit_transform(copy_df['RestingECG'])\n",
    "copy_df['ExerciseAngina']=le.fit_transform(copy_df['ExerciseAngina'])\n",
    "copy_df['ST_Slope']=le.fit_transform(copy_df['ST_Slope'])"
   ]
  },
  {
   "cell_type": "code",
   "execution_count": 13,
   "id": "a04dc8d1",
   "metadata": {
    "execution": {
     "iopub.execute_input": "2021-11-07T10:52:49.316890Z",
     "iopub.status.busy": "2021-11-07T10:52:49.316175Z",
     "iopub.status.idle": "2021-11-07T10:52:49.331800Z",
     "shell.execute_reply": "2021-11-07T10:52:49.332313Z",
     "shell.execute_reply.started": "2021-11-07T10:42:03.400568Z"
    },
    "papermill": {
     "duration": 0.043778,
     "end_time": "2021-11-07T10:52:49.332507",
     "exception": false,
     "start_time": "2021-11-07T10:52:49.288729",
     "status": "completed"
    },
    "tags": []
   },
   "outputs": [
    {
     "data": {
      "text/html": [
       "<div>\n",
       "<style scoped>\n",
       "    .dataframe tbody tr th:only-of-type {\n",
       "        vertical-align: middle;\n",
       "    }\n",
       "\n",
       "    .dataframe tbody tr th {\n",
       "        vertical-align: top;\n",
       "    }\n",
       "\n",
       "    .dataframe thead th {\n",
       "        text-align: right;\n",
       "    }\n",
       "</style>\n",
       "<table border=\"1\" class=\"dataframe\">\n",
       "  <thead>\n",
       "    <tr style=\"text-align: right;\">\n",
       "      <th></th>\n",
       "      <th>Age</th>\n",
       "      <th>Sex</th>\n",
       "      <th>ChestPainType</th>\n",
       "      <th>RestingBP</th>\n",
       "      <th>Cholesterol</th>\n",
       "      <th>FastingBS</th>\n",
       "      <th>RestingECG</th>\n",
       "      <th>MaxHR</th>\n",
       "      <th>ExerciseAngina</th>\n",
       "      <th>Oldpeak</th>\n",
       "      <th>ST_Slope</th>\n",
       "      <th>HeartDisease</th>\n",
       "    </tr>\n",
       "  </thead>\n",
       "  <tbody>\n",
       "    <tr>\n",
       "      <th>0</th>\n",
       "      <td>40</td>\n",
       "      <td>0</td>\n",
       "      <td>1</td>\n",
       "      <td>140</td>\n",
       "      <td>289</td>\n",
       "      <td>0</td>\n",
       "      <td>1</td>\n",
       "      <td>172</td>\n",
       "      <td>0</td>\n",
       "      <td>0.0</td>\n",
       "      <td>2</td>\n",
       "      <td>0</td>\n",
       "    </tr>\n",
       "    <tr>\n",
       "      <th>1</th>\n",
       "      <td>49</td>\n",
       "      <td>1</td>\n",
       "      <td>2</td>\n",
       "      <td>160</td>\n",
       "      <td>180</td>\n",
       "      <td>0</td>\n",
       "      <td>1</td>\n",
       "      <td>156</td>\n",
       "      <td>0</td>\n",
       "      <td>1.0</td>\n",
       "      <td>1</td>\n",
       "      <td>1</td>\n",
       "    </tr>\n",
       "    <tr>\n",
       "      <th>2</th>\n",
       "      <td>37</td>\n",
       "      <td>0</td>\n",
       "      <td>1</td>\n",
       "      <td>130</td>\n",
       "      <td>283</td>\n",
       "      <td>0</td>\n",
       "      <td>2</td>\n",
       "      <td>98</td>\n",
       "      <td>0</td>\n",
       "      <td>0.0</td>\n",
       "      <td>2</td>\n",
       "      <td>0</td>\n",
       "    </tr>\n",
       "    <tr>\n",
       "      <th>3</th>\n",
       "      <td>48</td>\n",
       "      <td>1</td>\n",
       "      <td>0</td>\n",
       "      <td>138</td>\n",
       "      <td>214</td>\n",
       "      <td>0</td>\n",
       "      <td>1</td>\n",
       "      <td>108</td>\n",
       "      <td>1</td>\n",
       "      <td>1.5</td>\n",
       "      <td>1</td>\n",
       "      <td>1</td>\n",
       "    </tr>\n",
       "    <tr>\n",
       "      <th>4</th>\n",
       "      <td>54</td>\n",
       "      <td>0</td>\n",
       "      <td>2</td>\n",
       "      <td>150</td>\n",
       "      <td>195</td>\n",
       "      <td>0</td>\n",
       "      <td>1</td>\n",
       "      <td>122</td>\n",
       "      <td>0</td>\n",
       "      <td>0.0</td>\n",
       "      <td>2</td>\n",
       "      <td>0</td>\n",
       "    </tr>\n",
       "    <tr>\n",
       "      <th>5</th>\n",
       "      <td>39</td>\n",
       "      <td>0</td>\n",
       "      <td>2</td>\n",
       "      <td>120</td>\n",
       "      <td>339</td>\n",
       "      <td>0</td>\n",
       "      <td>1</td>\n",
       "      <td>170</td>\n",
       "      <td>0</td>\n",
       "      <td>0.0</td>\n",
       "      <td>2</td>\n",
       "      <td>0</td>\n",
       "    </tr>\n",
       "    <tr>\n",
       "      <th>6</th>\n",
       "      <td>45</td>\n",
       "      <td>1</td>\n",
       "      <td>1</td>\n",
       "      <td>130</td>\n",
       "      <td>237</td>\n",
       "      <td>0</td>\n",
       "      <td>1</td>\n",
       "      <td>170</td>\n",
       "      <td>0</td>\n",
       "      <td>0.0</td>\n",
       "      <td>2</td>\n",
       "      <td>0</td>\n",
       "    </tr>\n",
       "    <tr>\n",
       "      <th>7</th>\n",
       "      <td>54</td>\n",
       "      <td>0</td>\n",
       "      <td>1</td>\n",
       "      <td>110</td>\n",
       "      <td>208</td>\n",
       "      <td>0</td>\n",
       "      <td>1</td>\n",
       "      <td>142</td>\n",
       "      <td>0</td>\n",
       "      <td>0.0</td>\n",
       "      <td>2</td>\n",
       "      <td>0</td>\n",
       "    </tr>\n",
       "    <tr>\n",
       "      <th>8</th>\n",
       "      <td>37</td>\n",
       "      <td>0</td>\n",
       "      <td>0</td>\n",
       "      <td>140</td>\n",
       "      <td>207</td>\n",
       "      <td>0</td>\n",
       "      <td>1</td>\n",
       "      <td>130</td>\n",
       "      <td>1</td>\n",
       "      <td>1.5</td>\n",
       "      <td>1</td>\n",
       "      <td>1</td>\n",
       "    </tr>\n",
       "    <tr>\n",
       "      <th>9</th>\n",
       "      <td>48</td>\n",
       "      <td>1</td>\n",
       "      <td>1</td>\n",
       "      <td>120</td>\n",
       "      <td>284</td>\n",
       "      <td>0</td>\n",
       "      <td>1</td>\n",
       "      <td>120</td>\n",
       "      <td>0</td>\n",
       "      <td>0.0</td>\n",
       "      <td>2</td>\n",
       "      <td>0</td>\n",
       "    </tr>\n",
       "  </tbody>\n",
       "</table>\n",
       "</div>"
      ],
      "text/plain": [
       "   Age  Sex  ChestPainType  RestingBP  Cholesterol  FastingBS  RestingECG  \\\n",
       "0   40    0              1        140          289          0           1   \n",
       "1   49    1              2        160          180          0           1   \n",
       "2   37    0              1        130          283          0           2   \n",
       "3   48    1              0        138          214          0           1   \n",
       "4   54    0              2        150          195          0           1   \n",
       "5   39    0              2        120          339          0           1   \n",
       "6   45    1              1        130          237          0           1   \n",
       "7   54    0              1        110          208          0           1   \n",
       "8   37    0              0        140          207          0           1   \n",
       "9   48    1              1        120          284          0           1   \n",
       "\n",
       "   MaxHR  ExerciseAngina  Oldpeak  ST_Slope  HeartDisease  \n",
       "0    172               0      0.0         2             0  \n",
       "1    156               0      1.0         1             1  \n",
       "2     98               0      0.0         2             0  \n",
       "3    108               1      1.5         1             1  \n",
       "4    122               0      0.0         2             0  \n",
       "5    170               0      0.0         2             0  \n",
       "6    170               0      0.0         2             0  \n",
       "7    142               0      0.0         2             0  \n",
       "8    130               1      1.5         1             1  \n",
       "9    120               0      0.0         2             0  "
      ]
     },
     "execution_count": 13,
     "metadata": {},
     "output_type": "execute_result"
    }
   ],
   "source": [
    "# we can see all objects change into number values\n",
    "# ChestPainType['ATA' 'NAP' 'ASY' 'TA'] = [1,2,3,4]\n",
    "# RestingECG['Normal' 'ST' 'LVH'] = [1,2,3]\n",
    "# ExerciseAngina['N' 'Y'] = [0,1]  .. oh, we can change yes or no vlaues to 0 and 1\n",
    "# ST_Slope['Up' 'Flat' 'Down'] = [1,2,3]\n",
    "copy_df.head(10)"
   ]
  },
  {
   "cell_type": "code",
   "execution_count": 14,
   "id": "5eeb17b3",
   "metadata": {
    "execution": {
     "iopub.execute_input": "2021-11-07T10:52:49.389192Z",
     "iopub.status.busy": "2021-11-07T10:52:49.388448Z",
     "iopub.status.idle": "2021-11-07T10:52:49.391498Z",
     "shell.execute_reply": "2021-11-07T10:52:49.390829Z",
     "shell.execute_reply.started": "2021-11-07T10:42:04.182352Z"
    },
    "papermill": {
     "duration": 0.03342,
     "end_time": "2021-11-07T10:52:49.391716",
     "exception": false,
     "start_time": "2021-11-07T10:52:49.358296",
     "status": "completed"
    },
    "tags": []
   },
   "outputs": [],
   "source": [
    "import matplotlib.pyplot as plt"
   ]
  },
  {
   "cell_type": "code",
   "execution_count": 15,
   "id": "a7e6c62f",
   "metadata": {
    "execution": {
     "iopub.execute_input": "2021-11-07T10:52:49.477735Z",
     "iopub.status.busy": "2021-11-07T10:52:49.476882Z",
     "iopub.status.idle": "2021-11-07T10:52:50.643353Z",
     "shell.execute_reply": "2021-11-07T10:52:50.643911Z",
     "shell.execute_reply.started": "2021-11-07T10:42:05.197263Z"
    },
    "papermill": {
     "duration": 1.226811,
     "end_time": "2021-11-07T10:52:50.644133",
     "exception": false,
     "start_time": "2021-11-07T10:52:49.417322",
     "status": "completed"
    },
    "tags": []
   },
   "outputs": [
    {
     "data": {
      "text/plain": [
       "<AxesSubplot:>"
      ]
     },
     "execution_count": 15,
     "metadata": {},
     "output_type": "execute_result"
    },
    {
     "data": {
      "image/png": "[encoded data removed]",
      "text/plain": [
       "<Figure size 720x720 with 2 Axes>"
      ]
     },
     "metadata": {
      "needs_background": "light"
     },
     "output_type": "display_data"
    }
   ],
   "source": [
    "fig, ax = plt.subplots(figsize=(10,10)) # this line of code modify size of plot\n",
    "sns.heatmap(copy_df.corr(), annot=True) # shows correlations between each value\n",
    "# as we can see age, oldpeak and ExerciseAngina is correlated with heart disease"
   ]
  },
  {
   "cell_type": "code",
   "execution_count": 16,
   "id": "30b41ec5",
   "metadata": {
    "execution": {
     "iopub.execute_input": "2021-11-07T10:52:50.706147Z",
     "iopub.status.busy": "2021-11-07T10:52:50.705116Z",
     "iopub.status.idle": "2021-11-07T10:52:50.721121Z",
     "shell.execute_reply": "2021-11-07T10:52:50.721642Z",
     "shell.execute_reply.started": "2021-11-07T10:42:06.490383Z"
    },
    "papermill": {
     "duration": 0.048396,
     "end_time": "2021-11-07T10:52:50.721850",
     "exception": false,
     "start_time": "2021-11-07T10:52:50.673454",
     "status": "completed"
    },
    "tags": []
   },
   "outputs": [
    {
     "data": {
      "text/html": [
       "<div>\n",
       "<style scoped>\n",
       "    .dataframe tbody tr th:only-of-type {\n",
       "        vertical-align: middle;\n",
       "    }\n",
       "\n",
       "    .dataframe tbody tr th {\n",
       "        vertical-align: top;\n",
       "    }\n",
       "\n",
       "    .dataframe thead th {\n",
       "        text-align: right;\n",
       "    }\n",
       "</style>\n",
       "<table border=\"1\" class=\"dataframe\">\n",
       "  <thead>\n",
       "    <tr style=\"text-align: right;\">\n",
       "      <th></th>\n",
       "      <th>Age</th>\n",
       "      <th>Sex</th>\n",
       "      <th>ChestPainType</th>\n",
       "      <th>RestingBP</th>\n",
       "      <th>Cholesterol</th>\n",
       "      <th>FastingBS</th>\n",
       "      <th>RestingECG</th>\n",
       "      <th>MaxHR</th>\n",
       "      <th>ExerciseAngina</th>\n",
       "      <th>Oldpeak</th>\n",
       "      <th>ST_Slope</th>\n",
       "    </tr>\n",
       "  </thead>\n",
       "  <tbody>\n",
       "    <tr>\n",
       "      <th>0</th>\n",
       "      <td>40</td>\n",
       "      <td>0</td>\n",
       "      <td>1</td>\n",
       "      <td>140</td>\n",
       "      <td>289</td>\n",
       "      <td>0</td>\n",
       "      <td>1</td>\n",
       "      <td>172</td>\n",
       "      <td>0</td>\n",
       "      <td>0.0</td>\n",
       "      <td>2</td>\n",
       "    </tr>\n",
       "    <tr>\n",
       "      <th>1</th>\n",
       "      <td>49</td>\n",
       "      <td>1</td>\n",
       "      <td>2</td>\n",
       "      <td>160</td>\n",
       "      <td>180</td>\n",
       "      <td>0</td>\n",
       "      <td>1</td>\n",
       "      <td>156</td>\n",
       "      <td>0</td>\n",
       "      <td>1.0</td>\n",
       "      <td>1</td>\n",
       "    </tr>\n",
       "    <tr>\n",
       "      <th>2</th>\n",
       "      <td>37</td>\n",
       "      <td>0</td>\n",
       "      <td>1</td>\n",
       "      <td>130</td>\n",
       "      <td>283</td>\n",
       "      <td>0</td>\n",
       "      <td>2</td>\n",
       "      <td>98</td>\n",
       "      <td>0</td>\n",
       "      <td>0.0</td>\n",
       "      <td>2</td>\n",
       "    </tr>\n",
       "    <tr>\n",
       "      <th>3</th>\n",
       "      <td>48</td>\n",
       "      <td>1</td>\n",
       "      <td>0</td>\n",
       "      <td>138</td>\n",
       "      <td>214</td>\n",
       "      <td>0</td>\n",
       "      <td>1</td>\n",
       "      <td>108</td>\n",
       "      <td>1</td>\n",
       "      <td>1.5</td>\n",
       "      <td>1</td>\n",
       "    </tr>\n",
       "    <tr>\n",
       "      <th>4</th>\n",
       "      <td>54</td>\n",
       "      <td>0</td>\n",
       "      <td>2</td>\n",
       "      <td>150</td>\n",
       "      <td>195</td>\n",
       "      <td>0</td>\n",
       "      <td>1</td>\n",
       "      <td>122</td>\n",
       "      <td>0</td>\n",
       "      <td>0.0</td>\n",
       "      <td>2</td>\n",
       "    </tr>\n",
       "  </tbody>\n",
       "</table>\n",
       "</div>"
      ],
      "text/plain": [
       "   Age  Sex  ChestPainType  RestingBP  Cholesterol  FastingBS  RestingECG  \\\n",
       "0   40    0              1        140          289          0           1   \n",
       "1   49    1              2        160          180          0           1   \n",
       "2   37    0              1        130          283          0           2   \n",
       "3   48    1              0        138          214          0           1   \n",
       "4   54    0              2        150          195          0           1   \n",
       "\n",
       "   MaxHR  ExerciseAngina  Oldpeak  ST_Slope  \n",
       "0    172               0      0.0         2  \n",
       "1    156               0      1.0         1  \n",
       "2     98               0      0.0         2  \n",
       "3    108               1      1.5         1  \n",
       "4    122               0      0.0         2  "
      ]
     },
     "execution_count": 16,
     "metadata": {},
     "output_type": "execute_result"
    }
   ],
   "source": [
    "# by the way, our goal is to predict a possible heart disease. so let's delete HeartDisease column from our dataset since it is target value we want to predict\n",
    "x = copy_df.drop(['HeartDisease'], axis=1)\n",
    "x.head()"
   ]
  },
  {
   "cell_type": "code",
   "execution_count": 17,
   "id": "921ad354",
   "metadata": {
    "execution": {
     "iopub.execute_input": "2021-11-07T10:52:50.784375Z",
     "iopub.status.busy": "2021-11-07T10:52:50.783345Z",
     "iopub.status.idle": "2021-11-07T10:52:50.787603Z",
     "shell.execute_reply": "2021-11-07T10:52:50.788197Z",
     "shell.execute_reply.started": "2021-11-07T10:42:07.836182Z"
    },
    "papermill": {
     "duration": 0.038199,
     "end_time": "2021-11-07T10:52:50.788402",
     "exception": false,
     "start_time": "2021-11-07T10:52:50.750203",
     "status": "completed"
    },
    "tags": []
   },
   "outputs": [],
   "source": [
    "# and split answer(heart disease which is our target)\n",
    "y = copy_df['HeartDisease']"
   ]
  },
  {
   "cell_type": "code",
   "execution_count": 18,
   "id": "b271ca76",
   "metadata": {
    "execution": {
     "iopub.execute_input": "2021-11-07T10:52:50.850556Z",
     "iopub.status.busy": "2021-11-07T10:52:50.849479Z",
     "iopub.status.idle": "2021-11-07T10:52:50.915407Z",
     "shell.execute_reply": "2021-11-07T10:52:50.916022Z",
     "shell.execute_reply.started": "2021-11-07T10:42:10.333462Z"
    },
    "papermill": {
     "duration": 0.09896,
     "end_time": "2021-11-07T10:52:50.916228",
     "exception": false,
     "start_time": "2021-11-07T10:52:50.817268",
     "status": "completed"
    },
    "tags": []
   },
   "outputs": [],
   "source": [
    "# here is the link for \n",
    "# https://scikit-learn.org/stable/modules/generated/sklearn.model_selection.train_test_split.html\n",
    "from sklearn.model_selection import train_test_split\n",
    "\n",
    "x_train, x_test, y_train, y_test = train_test_split(x, y, test_size=0.3)"
   ]
  },
  {
   "cell_type": "code",
   "execution_count": 19,
   "id": "ea5bd029",
   "metadata": {
    "execution": {
     "iopub.execute_input": "2021-11-07T10:52:50.977908Z",
     "iopub.status.busy": "2021-11-07T10:52:50.976746Z",
     "iopub.status.idle": "2021-11-07T10:52:50.982536Z",
     "shell.execute_reply": "2021-11-07T10:52:50.983131Z",
     "shell.execute_reply.started": "2021-11-07T10:45:09.361057Z"
    },
    "papermill": {
     "duration": 0.038518,
     "end_time": "2021-11-07T10:52:50.983334",
     "exception": false,
     "start_time": "2021-11-07T10:52:50.944816",
     "status": "completed"
    },
    "tags": []
   },
   "outputs": [
    {
     "name": "stdout",
     "output_type": "stream",
     "text": [
      "(642, 11)\n"
     ]
    }
   ],
   "source": [
    "print(x_train.shape)"
   ]
  },
  {
   "cell_type": "code",
   "execution_count": 20,
   "id": "deb5995c",
   "metadata": {
    "execution": {
     "iopub.execute_input": "2021-11-07T10:52:51.045715Z",
     "iopub.status.busy": "2021-11-07T10:52:51.045016Z",
     "iopub.status.idle": "2021-11-07T10:52:52.490922Z",
     "shell.execute_reply": "2021-11-07T10:52:52.490250Z",
     "shell.execute_reply.started": "2021-11-07T10:49:05.957383Z"
    },
    "papermill": {
     "duration": 1.478804,
     "end_time": "2021-11-07T10:52:52.491111",
     "exception": false,
     "start_time": "2021-11-07T10:52:51.012307",
     "status": "completed"
    },
    "tags": []
   },
   "outputs": [],
   "source": [
    "# So, im going to use adaboost for classification task.. and below link is good place to learn about it\n",
    "# https://machinelearningmastery.com/boosting-and-adaboost-for-machine-learning/\n",
    "from sklearn.ensemble import AdaBoostClassifier\n",
    "from sklearn.metrics import accuracy_score\n",
    "\n",
    "ada_boost_cla = AdaBoostClassifier(n_estimators = 600, learning_rate=0.5,\n",
    "                                  random_state=0)\n",
    "ada_model = ada_boost_cla.fit(x_train, y_train)"
   ]
  },
  {
   "cell_type": "code",
   "execution_count": 21,
   "id": "713f4538",
   "metadata": {
    "execution": {
     "iopub.execute_input": "2021-11-07T10:52:52.556849Z",
     "iopub.status.busy": "2021-11-07T10:52:52.556018Z",
     "iopub.status.idle": "2021-11-07T10:52:52.670003Z",
     "shell.execute_reply": "2021-11-07T10:52:52.669301Z",
     "shell.execute_reply.started": "2021-11-07T10:48:20.639611Z"
    },
    "papermill": {
     "duration": 0.1502,
     "end_time": "2021-11-07T10:52:52.670181",
     "exception": false,
     "start_time": "2021-11-07T10:52:52.519981",
     "status": "completed"
    },
    "tags": []
   },
   "outputs": [
    {
     "name": "stdout",
     "output_type": "stream",
     "text": [
      "[0 1 1 1 0 1 1 1 1 0 1 0 0 0 0 1 0 1 0 0 1 0 0 1 0 0 1 1 1 1 1 0 0 1 1 0 1\n",
      " 0 0 0 0 1 1 0 1 0 1 0 1 0 0 1 1 0 1 1 0 0 1 0 1 0 1 1 1 1 0 1 1 1 0 1 0 1\n",
      " 0 1 0 0 1 1 1 0 0 1 0 1 1 1 1 1 1 1 0 1 0 1 0 1 1 1 0 0 1 1 1 1 1 1 1 0 1\n",
      " 1 1 0 0 1 1 1 1 0 1 1 0 1 1 1 0 1 1 0 0 1 0 1 1 1 1 0 0 0 1 0 0 1 1 0 1 0\n",
      " 0 0 1 0 1 1 0 0 1 0 1 1 1 0 1 1 0 1 1 0 0 1 1 0 1 1 1 0 0 0 0 0 1 0 1 0 0\n",
      " 1 0 0 0 0 0 1 1 1 1 0 0 1 1 0 0 0 1 1 0 1 1 1 0 1 0 1 0 1 0 1 0 0 1 0 1 1\n",
      " 1 1 1 1 0 1 1 0 0 1 1 0 1 1 0 1 0 1 0 0 1 0 0 1 1 1 1 0 1 0 1 1 0 0 0 1 1\n",
      " 1 1 1 0 1 1 1 1 0 1 0 0 0 1 0 0 0]\n"
     ]
    }
   ],
   "source": [
    "ada_predictor = ada_model.predict(x_test)\n",
    "print(ada_predictor)"
   ]
  },
  {
   "cell_type": "code",
   "execution_count": 22,
   "id": "72758fc2",
   "metadata": {
    "execution": {
     "iopub.execute_input": "2021-11-07T10:52:52.741387Z",
     "iopub.status.busy": "2021-11-07T10:52:52.740705Z",
     "iopub.status.idle": "2021-11-07T10:52:52.745557Z",
     "shell.execute_reply": "2021-11-07T10:52:52.744933Z",
     "shell.execute_reply.started": "2021-11-07T10:49:29.491497Z"
    },
    "papermill": {
     "duration": 0.045636,
     "end_time": "2021-11-07T10:52:52.745724",
     "exception": false,
     "start_time": "2021-11-07T10:52:52.700088",
     "status": "completed"
    },
    "tags": []
   },
   "outputs": [
    {
     "name": "stdout",
     "output_type": "stream",
     "text": [
      "AdaBoost Classifier Model Accuracy: 0.8043478260869565\n"
     ]
    }
   ],
   "source": [
    "print(\"AdaBoost Classifier Model Accuracy:\", accuracy_score(y_test, ada_predictor))"
   ]
  },
  {
   "cell_type": "code",
   "execution_count": null,
   "id": "e41b2dff",
   "metadata": {
    "papermill": {
     "duration": 0.03103,
     "end_time": "2021-11-07T10:52:52.806966",
     "exception": false,
     "start_time": "2021-11-07T10:52:52.775936",
     "status": "completed"
    },
    "tags": []
   },
   "outputs": [],
   "source": []
  }
 ],
 "metadata": {
  "kernelspec": {
   "display_name": "Python 3",
   "language": "python",
   "name": "python3"
  },
  "language_info": {
   "codemirror_mode": {
    "name": "ipython",
    "version": 3
   },
   "file_extension": ".py",
   "mimetype": "text/x-python",
   "name": "python",
   "nbconvert_exporter": "python",
   "pygments_lexer": "ipython3",
   "version": "3.7.10"
  },
  "papermill": {
   "default_parameters": {},
   "duration": 18.022603,
   "end_time": "2021-11-07T10:52:53.951020",
   "environment_variables": {},
   "exception": null,
   "input_path": "__notebook__.ipynb",
   "output_path": "__notebook__.ipynb",
   "parameters": {},
   "start_time": "2021-11-07T10:52:35.928417",
   "version": "2.3.3"
  }
 },
 "nbformat": 4,
 "nbformat_minor": 5
}
