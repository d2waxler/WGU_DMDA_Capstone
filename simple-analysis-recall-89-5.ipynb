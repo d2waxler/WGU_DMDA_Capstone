{
 "cells": [
  {
   "cell_type": "code",
   "execution_count": 1,
   "id": "971a5c73",
   "metadata": {
    "_cell_guid": "b1076dfc-b9ad-4769-8c92-a6c4dae69d19",
    "_uuid": "8f2839f25d086af736a60e9eeb907d3b93b6e0e5",
    "execution": {
     "iopub.execute_input": "2021-11-07T14:56:21.100095Z",
     "iopub.status.busy": "2021-11-07T14:56:21.099366Z",
     "iopub.status.idle": "2021-11-07T14:56:21.112573Z",
     "shell.execute_reply": "2021-11-07T14:56:21.113223Z",
     "shell.execute_reply.started": "2021-11-07T14:26:53.496196Z"
    },
    "papermill": {
     "duration": 0.052792,
     "end_time": "2021-11-07T14:56:21.113524",
     "exception": false,
     "start_time": "2021-11-07T14:56:21.060732",
     "status": "completed"
    },
    "tags": []
   },
   "outputs": [
    {
     "name": "stdout",
     "output_type": "stream",
     "text": [
      "/kaggle/input/heart-failure-prediction/heart.csv\n"
     ]
    }
   ],
   "source": [
    "# This Python 3 environment comes with many helpful analytics libraries installed\n",
    "# It is defined by the kaggle/python Docker image: https://github.com/kaggle/docker-python\n",
    "# For example, here's several helpful packages to load\n",
    "\n",
    "import numpy as np # linear algebra\n",
    "import pandas as pd # data processing, CSV file I/O (e.g. pd.read_csv)\n",
    "\n",
    "# Input data files are available in the read-only \"../input/\" directory\n",
    "# For example, running this (by clicking run or pressing Shift+Enter) will list all files under the input directory\n",
    "\n",
    "import os\n",
    "for dirname, _, filenames in os.walk('/kaggle/input'):\n",
    "    for filename in filenames:\n",
    "        print(os.path.join(dirname, filename))\n",
    "\n",
    "# You can write up to 20GB to the current directory (/kaggle/working/) that gets preserved as output when you create a version using \"Save & Run All\" \n",
    "# You can also write temporary files to /kaggle/temp/, but they won't be saved outside of the current session"
   ]
  },
  {
   "cell_type": "markdown",
   "id": "4c43eb17",
   "metadata": {
    "papermill": {
     "duration": 0.022668,
     "end_time": "2021-11-07T14:56:21.160272",
     "exception": false,
     "start_time": "2021-11-07T14:56:21.137604",
     "status": "completed"
    },
    "tags": []
   },
   "source": [
    "# Data importing\n",
    "Let's see what kind of data we are going to analyze"
   ]
  },
  {
   "cell_type": "code",
   "execution_count": 2,
   "id": "34aea04c",
   "metadata": {
    "execution": {
     "iopub.execute_input": "2021-11-07T14:56:21.211108Z",
     "iopub.status.busy": "2021-11-07T14:56:21.210399Z",
     "iopub.status.idle": "2021-11-07T14:56:21.262216Z",
     "shell.execute_reply": "2021-11-07T14:56:21.261614Z",
     "shell.execute_reply.started": "2021-11-07T14:26:53.508177Z"
    },
    "papermill": {
     "duration": 0.078101,
     "end_time": "2021-11-07T14:56:21.262395",
     "exception": false,
     "start_time": "2021-11-07T14:56:21.184294",
     "status": "completed"
    },
    "tags": []
   },
   "outputs": [
    {
     "data": {
      "text/html": [
       "<div>\n",
       "<style scoped>\n",
       "    .dataframe tbody tr th:only-of-type {\n",
       "        vertical-align: middle;\n",
       "    }\n",
       "\n",
       "    .dataframe tbody tr th {\n",
       "        vertical-align: top;\n",
       "    }\n",
       "\n",
       "    .dataframe thead th {\n",
       "        text-align: right;\n",
       "    }\n",
       "</style>\n",
       "<table border=\"1\" class=\"dataframe\">\n",
       "  <thead>\n",
       "    <tr style=\"text-align: right;\">\n",
       "      <th></th>\n",
       "      <th>Age</th>\n",
       "      <th>Sex</th>\n",
       "      <th>ChestPainType</th>\n",
       "      <th>RestingBP</th>\n",
       "      <th>Cholesterol</th>\n",
       "      <th>FastingBS</th>\n",
       "      <th>RestingECG</th>\n",
       "      <th>MaxHR</th>\n",
       "      <th>ExerciseAngina</th>\n",
       "      <th>Oldpeak</th>\n",
       "      <th>ST_Slope</th>\n",
       "      <th>HeartDisease</th>\n",
       "    </tr>\n",
       "  </thead>\n",
       "  <tbody>\n",
       "    <tr>\n",
       "      <th>0</th>\n",
       "      <td>40</td>\n",
       "      <td>M</td>\n",
       "      <td>ATA</td>\n",
       "      <td>140</td>\n",
       "      <td>289</td>\n",
       "      <td>0</td>\n",
       "      <td>Normal</td>\n",
       "      <td>172</td>\n",
       "      <td>N</td>\n",
       "      <td>0.0</td>\n",
       "      <td>Up</td>\n",
       "      <td>0</td>\n",
       "    </tr>\n",
       "    <tr>\n",
       "      <th>1</th>\n",
       "      <td>49</td>\n",
       "      <td>F</td>\n",
       "      <td>NAP</td>\n",
       "      <td>160</td>\n",
       "      <td>180</td>\n",
       "      <td>0</td>\n",
       "      <td>Normal</td>\n",
       "      <td>156</td>\n",
       "      <td>N</td>\n",
       "      <td>1.0</td>\n",
       "      <td>Flat</td>\n",
       "      <td>1</td>\n",
       "    </tr>\n",
       "    <tr>\n",
       "      <th>2</th>\n",
       "      <td>37</td>\n",
       "      <td>M</td>\n",
       "      <td>ATA</td>\n",
       "      <td>130</td>\n",
       "      <td>283</td>\n",
       "      <td>0</td>\n",
       "      <td>ST</td>\n",
       "      <td>98</td>\n",
       "      <td>N</td>\n",
       "      <td>0.0</td>\n",
       "      <td>Up</td>\n",
       "      <td>0</td>\n",
       "    </tr>\n",
       "    <tr>\n",
       "      <th>3</th>\n",
       "      <td>48</td>\n",
       "      <td>F</td>\n",
       "      <td>ASY</td>\n",
       "      <td>138</td>\n",
       "      <td>214</td>\n",
       "      <td>0</td>\n",
       "      <td>Normal</td>\n",
       "      <td>108</td>\n",
       "      <td>Y</td>\n",
       "      <td>1.5</td>\n",
       "      <td>Flat</td>\n",
       "      <td>1</td>\n",
       "    </tr>\n",
       "    <tr>\n",
       "      <th>4</th>\n",
       "      <td>54</td>\n",
       "      <td>M</td>\n",
       "      <td>NAP</td>\n",
       "      <td>150</td>\n",
       "      <td>195</td>\n",
       "      <td>0</td>\n",
       "      <td>Normal</td>\n",
       "      <td>122</td>\n",
       "      <td>N</td>\n",
       "      <td>0.0</td>\n",
       "      <td>Up</td>\n",
       "      <td>0</td>\n",
       "    </tr>\n",
       "    <tr>\n",
       "      <th>...</th>\n",
       "      <td>...</td>\n",
       "      <td>...</td>\n",
       "      <td>...</td>\n",
       "      <td>...</td>\n",
       "      <td>...</td>\n",
       "      <td>...</td>\n",
       "      <td>...</td>\n",
       "      <td>...</td>\n",
       "      <td>...</td>\n",
       "      <td>...</td>\n",
       "      <td>...</td>\n",
       "      <td>...</td>\n",
       "    </tr>\n",
       "    <tr>\n",
       "      <th>913</th>\n",
       "      <td>45</td>\n",
       "      <td>M</td>\n",
       "      <td>TA</td>\n",
       "      <td>110</td>\n",
       "      <td>264</td>\n",
       "      <td>0</td>\n",
       "      <td>Normal</td>\n",
       "      <td>132</td>\n",
       "      <td>N</td>\n",
       "      <td>1.2</td>\n",
       "      <td>Flat</td>\n",
       "      <td>1</td>\n",
       "    </tr>\n",
       "    <tr>\n",
       "      <th>914</th>\n",
       "      <td>68</td>\n",
       "      <td>M</td>\n",
       "      <td>ASY</td>\n",
       "      <td>144</td>\n",
       "      <td>193</td>\n",
       "      <td>1</td>\n",
       "      <td>Normal</td>\n",
       "      <td>141</td>\n",
       "      <td>N</td>\n",
       "      <td>3.4</td>\n",
       "      <td>Flat</td>\n",
       "      <td>1</td>\n",
       "    </tr>\n",
       "    <tr>\n",
       "      <th>915</th>\n",
       "      <td>57</td>\n",
       "      <td>M</td>\n",
       "      <td>ASY</td>\n",
       "      <td>130</td>\n",
       "      <td>131</td>\n",
       "      <td>0</td>\n",
       "      <td>Normal</td>\n",
       "      <td>115</td>\n",
       "      <td>Y</td>\n",
       "      <td>1.2</td>\n",
       "      <td>Flat</td>\n",
       "      <td>1</td>\n",
       "    </tr>\n",
       "    <tr>\n",
       "      <th>916</th>\n",
       "      <td>57</td>\n",
       "      <td>F</td>\n",
       "      <td>ATA</td>\n",
       "      <td>130</td>\n",
       "      <td>236</td>\n",
       "      <td>0</td>\n",
       "      <td>LVH</td>\n",
       "      <td>174</td>\n",
       "      <td>N</td>\n",
       "      <td>0.0</td>\n",
       "      <td>Flat</td>\n",
       "      <td>1</td>\n",
       "    </tr>\n",
       "    <tr>\n",
       "      <th>917</th>\n",
       "      <td>38</td>\n",
       "      <td>M</td>\n",
       "      <td>NAP</td>\n",
       "      <td>138</td>\n",
       "      <td>175</td>\n",
       "      <td>0</td>\n",
       "      <td>Normal</td>\n",
       "      <td>173</td>\n",
       "      <td>N</td>\n",
       "      <td>0.0</td>\n",
       "      <td>Up</td>\n",
       "      <td>0</td>\n",
       "    </tr>\n",
       "  </tbody>\n",
       "</table>\n",
       "<p>918 rows × 12 columns</p>\n",
       "</div>"
      ],
      "text/plain": [
       "     Age Sex ChestPainType  RestingBP  Cholesterol  FastingBS RestingECG  \\\n",
       "0     40   M           ATA        140          289          0     Normal   \n",
       "1     49   F           NAP        160          180          0     Normal   \n",
       "2     37   M           ATA        130          283          0         ST   \n",
       "3     48   F           ASY        138          214          0     Normal   \n",
       "4     54   M           NAP        150          195          0     Normal   \n",
       "..   ...  ..           ...        ...          ...        ...        ...   \n",
       "913   45   M            TA        110          264          0     Normal   \n",
       "914   68   M           ASY        144          193          1     Normal   \n",
       "915   57   M           ASY        130          131          0     Normal   \n",
       "916   57   F           ATA        130          236          0        LVH   \n",
       "917   38   M           NAP        138          175          0     Normal   \n",
       "\n",
       "     MaxHR ExerciseAngina  Oldpeak ST_Slope  HeartDisease  \n",
       "0      172              N      0.0       Up             0  \n",
       "1      156              N      1.0     Flat             1  \n",
       "2       98              N      0.0       Up             0  \n",
       "3      108              Y      1.5     Flat             1  \n",
       "4      122              N      0.0       Up             0  \n",
       "..     ...            ...      ...      ...           ...  \n",
       "913    132              N      1.2     Flat             1  \n",
       "914    141              N      3.4     Flat             1  \n",
       "915    115              Y      1.2     Flat             1  \n",
       "916    174              N      0.0     Flat             1  \n",
       "917    173              N      0.0       Up             0  \n",
       "\n",
       "[918 rows x 12 columns]"
      ]
     },
     "execution_count": 2,
     "metadata": {},
     "output_type": "execute_result"
    }
   ],
   "source": [
    "data = pd.read_csv(\"/kaggle/input/heart-failure-prediction/heart.csv\")\n",
    "data"
   ]
  },
  {
   "cell_type": "code",
   "execution_count": 3,
   "id": "0f0322e8",
   "metadata": {
    "execution": {
     "iopub.execute_input": "2021-11-07T14:56:21.320827Z",
     "iopub.status.busy": "2021-11-07T14:56:21.320041Z",
     "iopub.status.idle": "2021-11-07T14:56:21.353763Z",
     "shell.execute_reply": "2021-11-07T14:56:21.353170Z",
     "shell.execute_reply.started": "2021-11-07T14:26:53.547999Z"
    },
    "papermill": {
     "duration": 0.067163,
     "end_time": "2021-11-07T14:56:21.353928",
     "exception": false,
     "start_time": "2021-11-07T14:56:21.286765",
     "status": "completed"
    },
    "tags": []
   },
   "outputs": [
    {
     "data": {
      "text/html": [
       "<div>\n",
       "<style scoped>\n",
       "    .dataframe tbody tr th:only-of-type {\n",
       "        vertical-align: middle;\n",
       "    }\n",
       "\n",
       "    .dataframe tbody tr th {\n",
       "        vertical-align: top;\n",
       "    }\n",
       "\n",
       "    .dataframe thead th {\n",
       "        text-align: right;\n",
       "    }\n",
       "</style>\n",
       "<table border=\"1\" class=\"dataframe\">\n",
       "  <thead>\n",
       "    <tr style=\"text-align: right;\">\n",
       "      <th></th>\n",
       "      <th>Age</th>\n",
       "      <th>RestingBP</th>\n",
       "      <th>Cholesterol</th>\n",
       "      <th>FastingBS</th>\n",
       "      <th>MaxHR</th>\n",
       "      <th>Oldpeak</th>\n",
       "      <th>HeartDisease</th>\n",
       "    </tr>\n",
       "  </thead>\n",
       "  <tbody>\n",
       "    <tr>\n",
       "      <th>count</th>\n",
       "      <td>918.000000</td>\n",
       "      <td>918.000000</td>\n",
       "      <td>918.000000</td>\n",
       "      <td>918.000000</td>\n",
       "      <td>918.000000</td>\n",
       "      <td>918.000000</td>\n",
       "      <td>918.000000</td>\n",
       "    </tr>\n",
       "    <tr>\n",
       "      <th>mean</th>\n",
       "      <td>53.510893</td>\n",
       "      <td>132.396514</td>\n",
       "      <td>198.799564</td>\n",
       "      <td>0.233115</td>\n",
       "      <td>136.809368</td>\n",
       "      <td>0.887364</td>\n",
       "      <td>0.553377</td>\n",
       "    </tr>\n",
       "    <tr>\n",
       "      <th>std</th>\n",
       "      <td>9.432617</td>\n",
       "      <td>18.514154</td>\n",
       "      <td>109.384145</td>\n",
       "      <td>0.423046</td>\n",
       "      <td>25.460334</td>\n",
       "      <td>1.066570</td>\n",
       "      <td>0.497414</td>\n",
       "    </tr>\n",
       "    <tr>\n",
       "      <th>min</th>\n",
       "      <td>28.000000</td>\n",
       "      <td>0.000000</td>\n",
       "      <td>0.000000</td>\n",
       "      <td>0.000000</td>\n",
       "      <td>60.000000</td>\n",
       "      <td>-2.600000</td>\n",
       "      <td>0.000000</td>\n",
       "    </tr>\n",
       "    <tr>\n",
       "      <th>25%</th>\n",
       "      <td>47.000000</td>\n",
       "      <td>120.000000</td>\n",
       "      <td>173.250000</td>\n",
       "      <td>0.000000</td>\n",
       "      <td>120.000000</td>\n",
       "      <td>0.000000</td>\n",
       "      <td>0.000000</td>\n",
       "    </tr>\n",
       "    <tr>\n",
       "      <th>50%</th>\n",
       "      <td>54.000000</td>\n",
       "      <td>130.000000</td>\n",
       "      <td>223.000000</td>\n",
       "      <td>0.000000</td>\n",
       "      <td>138.000000</td>\n",
       "      <td>0.600000</td>\n",
       "      <td>1.000000</td>\n",
       "    </tr>\n",
       "    <tr>\n",
       "      <th>75%</th>\n",
       "      <td>60.000000</td>\n",
       "      <td>140.000000</td>\n",
       "      <td>267.000000</td>\n",
       "      <td>0.000000</td>\n",
       "      <td>156.000000</td>\n",
       "      <td>1.500000</td>\n",
       "      <td>1.000000</td>\n",
       "    </tr>\n",
       "    <tr>\n",
       "      <th>max</th>\n",
       "      <td>77.000000</td>\n",
       "      <td>200.000000</td>\n",
       "      <td>603.000000</td>\n",
       "      <td>1.000000</td>\n",
       "      <td>202.000000</td>\n",
       "      <td>6.200000</td>\n",
       "      <td>1.000000</td>\n",
       "    </tr>\n",
       "  </tbody>\n",
       "</table>\n",
       "</div>"
      ],
      "text/plain": [
       "              Age   RestingBP  Cholesterol   FastingBS       MaxHR  \\\n",
       "count  918.000000  918.000000   918.000000  918.000000  918.000000   \n",
       "mean    53.510893  132.396514   198.799564    0.233115  136.809368   \n",
       "std      9.432617   18.514154   109.384145    0.423046   25.460334   \n",
       "min     28.000000    0.000000     0.000000    0.000000   60.000000   \n",
       "25%     47.000000  120.000000   173.250000    0.000000  120.000000   \n",
       "50%     54.000000  130.000000   223.000000    0.000000  138.000000   \n",
       "75%     60.000000  140.000000   267.000000    0.000000  156.000000   \n",
       "max     77.000000  200.000000   603.000000    1.000000  202.000000   \n",
       "\n",
       "          Oldpeak  HeartDisease  \n",
       "count  918.000000    918.000000  \n",
       "mean     0.887364      0.553377  \n",
       "std      1.066570      0.497414  \n",
       "min     -2.600000      0.000000  \n",
       "25%      0.000000      0.000000  \n",
       "50%      0.600000      1.000000  \n",
       "75%      1.500000      1.000000  \n",
       "max      6.200000      1.000000  "
      ]
     },
     "execution_count": 3,
     "metadata": {},
     "output_type": "execute_result"
    }
   ],
   "source": [
    "data.describe()"
   ]
  },
  {
   "cell_type": "code",
   "execution_count": 4,
   "id": "68a094d3",
   "metadata": {
    "execution": {
     "iopub.execute_input": "2021-11-07T14:56:21.410925Z",
     "iopub.status.busy": "2021-11-07T14:56:21.410186Z",
     "iopub.status.idle": "2021-11-07T14:56:21.412898Z",
     "shell.execute_reply": "2021-11-07T14:56:21.413434Z",
     "shell.execute_reply.started": "2021-11-07T14:26:53.58123Z"
    },
    "papermill": {
     "duration": 0.03482,
     "end_time": "2021-11-07T14:56:21.413612",
     "exception": false,
     "start_time": "2021-11-07T14:56:21.378792",
     "status": "completed"
    },
    "tags": []
   },
   "outputs": [
    {
     "data": {
      "text/plain": [
       "Age                 int64\n",
       "Sex                object\n",
       "ChestPainType      object\n",
       "RestingBP           int64\n",
       "Cholesterol         int64\n",
       "FastingBS           int64\n",
       "RestingECG         object\n",
       "MaxHR               int64\n",
       "ExerciseAngina     object\n",
       "Oldpeak           float64\n",
       "ST_Slope           object\n",
       "HeartDisease        int64\n",
       "dtype: object"
      ]
     },
     "execution_count": 4,
     "metadata": {},
     "output_type": "execute_result"
    }
   ],
   "source": [
    "data.dtypes"
   ]
  },
  {
   "cell_type": "markdown",
   "id": "6b6036b0",
   "metadata": {
    "papermill": {
     "duration": 0.024226,
     "end_time": "2021-11-07T14:56:21.462227",
     "exception": false,
     "start_time": "2021-11-07T14:56:21.438001",
     "status": "completed"
    },
    "tags": []
   },
   "source": [
    "# Preprocessing "
   ]
  },
  {
   "cell_type": "code",
   "execution_count": 5,
   "id": "a6d3e046",
   "metadata": {
    "execution": {
     "iopub.execute_input": "2021-11-07T14:56:21.515070Z",
     "iopub.status.busy": "2021-11-07T14:56:21.514315Z",
     "iopub.status.idle": "2021-11-07T14:56:21.522043Z",
     "shell.execute_reply": "2021-11-07T14:56:21.522634Z",
     "shell.execute_reply.started": "2021-11-07T14:26:53.589798Z"
    },
    "papermill": {
     "duration": 0.036005,
     "end_time": "2021-11-07T14:56:21.522876",
     "exception": false,
     "start_time": "2021-11-07T14:56:21.486871",
     "status": "completed"
    },
    "tags": []
   },
   "outputs": [],
   "source": [
    "target = pd.DataFrame()\n",
    "target = data.HeartDisease\n",
    "data = data.drop(\"HeartDisease\",axis=1)"
   ]
  },
  {
   "cell_type": "code",
   "execution_count": 6,
   "id": "9955ec53",
   "metadata": {
    "execution": {
     "iopub.execute_input": "2021-11-07T14:56:21.592457Z",
     "iopub.status.busy": "2021-11-07T14:56:21.591539Z",
     "iopub.status.idle": "2021-11-07T14:56:21.595148Z",
     "shell.execute_reply": "2021-11-07T14:56:21.595817Z",
     "shell.execute_reply.started": "2021-11-07T14:26:53.60223Z"
    },
    "papermill": {
     "duration": 0.045953,
     "end_time": "2021-11-07T14:56:21.596034",
     "exception": false,
     "start_time": "2021-11-07T14:56:21.550081",
     "status": "completed"
    },
    "tags": []
   },
   "outputs": [
    {
     "data": {
      "text/plain": [
       "array(['ATA', 'NAP', 'ASY', 'TA'], dtype=object)"
      ]
     },
     "execution_count": 6,
     "metadata": {},
     "output_type": "execute_result"
    }
   ],
   "source": [
    "data.ChestPainType.unique()"
   ]
  },
  {
   "cell_type": "code",
   "execution_count": 7,
   "id": "5124de9f",
   "metadata": {
    "execution": {
     "iopub.execute_input": "2021-11-07T14:56:21.662776Z",
     "iopub.status.busy": "2021-11-07T14:56:21.659702Z",
     "iopub.status.idle": "2021-11-07T14:56:21.665778Z",
     "shell.execute_reply": "2021-11-07T14:56:21.666368Z",
     "shell.execute_reply.started": "2021-11-07T14:26:53.615151Z"
    },
    "papermill": {
     "duration": 0.036239,
     "end_time": "2021-11-07T14:56:21.666562",
     "exception": false,
     "start_time": "2021-11-07T14:56:21.630323",
     "status": "completed"
    },
    "tags": []
   },
   "outputs": [
    {
     "data": {
      "text/plain": [
       "array(['Normal', 'ST', 'LVH'], dtype=object)"
      ]
     },
     "execution_count": 7,
     "metadata": {},
     "output_type": "execute_result"
    }
   ],
   "source": [
    "data.RestingECG.unique()"
   ]
  },
  {
   "cell_type": "code",
   "execution_count": 8,
   "id": "738baf1e",
   "metadata": {
    "execution": {
     "iopub.execute_input": "2021-11-07T14:56:21.723160Z",
     "iopub.status.busy": "2021-11-07T14:56:21.722445Z",
     "iopub.status.idle": "2021-11-07T14:56:21.728886Z",
     "shell.execute_reply": "2021-11-07T14:56:21.728301Z",
     "shell.execute_reply.started": "2021-11-07T14:26:53.626408Z"
    },
    "papermill": {
     "duration": 0.035866,
     "end_time": "2021-11-07T14:56:21.729055",
     "exception": false,
     "start_time": "2021-11-07T14:56:21.693189",
     "status": "completed"
    },
    "tags": []
   },
   "outputs": [
    {
     "data": {
      "text/plain": [
       "array(['N', 'Y'], dtype=object)"
      ]
     },
     "execution_count": 8,
     "metadata": {},
     "output_type": "execute_result"
    }
   ],
   "source": [
    "data.ExerciseAngina.unique()"
   ]
  },
  {
   "cell_type": "code",
   "execution_count": 9,
   "id": "efafa0ab",
   "metadata": {
    "execution": {
     "iopub.execute_input": "2021-11-07T14:56:21.787350Z",
     "iopub.status.busy": "2021-11-07T14:56:21.783831Z",
     "iopub.status.idle": "2021-11-07T14:56:21.790138Z",
     "shell.execute_reply": "2021-11-07T14:56:21.790750Z",
     "shell.execute_reply.started": "2021-11-07T14:26:53.637727Z"
    },
    "papermill": {
     "duration": 0.03534,
     "end_time": "2021-11-07T14:56:21.790921",
     "exception": false,
     "start_time": "2021-11-07T14:56:21.755581",
     "status": "completed"
    },
    "tags": []
   },
   "outputs": [
    {
     "data": {
      "text/plain": [
       "array(['Up', 'Flat', 'Down'], dtype=object)"
      ]
     },
     "execution_count": 9,
     "metadata": {},
     "output_type": "execute_result"
    }
   ],
   "source": [
    "data.ST_Slope.unique()"
   ]
  },
  {
   "cell_type": "markdown",
   "id": "17b4d4eb",
   "metadata": {
    "papermill": {
     "duration": 0.025692,
     "end_time": "2021-11-07T14:56:21.842236",
     "exception": false,
     "start_time": "2021-11-07T14:56:21.816544",
     "status": "completed"
    },
    "tags": []
   },
   "source": [
    "*OK,it looks like we need to convert the category data into dummy variables; using \"get_dummies\" is suitable."
   ]
  },
  {
   "cell_type": "code",
   "execution_count": 10,
   "id": "3140f783",
   "metadata": {
    "execution": {
     "iopub.execute_input": "2021-11-07T14:56:21.897630Z",
     "iopub.status.busy": "2021-11-07T14:56:21.896628Z",
     "iopub.status.idle": "2021-11-07T14:56:21.910905Z",
     "shell.execute_reply": "2021-11-07T14:56:21.911465Z",
     "shell.execute_reply.started": "2021-11-07T14:26:53.649925Z"
    },
    "papermill": {
     "duration": 0.043778,
     "end_time": "2021-11-07T14:56:21.911642",
     "exception": false,
     "start_time": "2021-11-07T14:56:21.867864",
     "status": "completed"
    },
    "tags": []
   },
   "outputs": [],
   "source": [
    "X_0 = pd.get_dummies(data.Sex,prefix=\"Sex\")\n",
    "X_1 = pd.get_dummies(data.ChestPainType,prefix=\"CPT\")\n",
    "X_2 = pd.get_dummies(data.RestingECG,prefix=\"RECG\")\n",
    "X_3 = pd.get_dummies(data.ExerciseAngina,prefix=\"EA\")\n",
    "X_4 = pd.get_dummies(data.ST_Slope,prefix=\"ST_S\")\n",
    "\n",
    "data = data.join([X_0,X_1,X_2,X_3,X_4])"
   ]
  },
  {
   "cell_type": "markdown",
   "id": "9886bbe3",
   "metadata": {
    "papermill": {
     "duration": 0.025402,
     "end_time": "2021-11-07T14:56:21.963405",
     "exception": false,
     "start_time": "2021-11-07T14:56:21.938003",
     "status": "completed"
    },
    "tags": []
   },
   "source": [
    "Delete any unnecessary category data that has already been converted."
   ]
  },
  {
   "cell_type": "code",
   "execution_count": 11,
   "id": "c922692b",
   "metadata": {
    "execution": {
     "iopub.execute_input": "2021-11-07T14:56:22.018585Z",
     "iopub.status.busy": "2021-11-07T14:56:22.017570Z",
     "iopub.status.idle": "2021-11-07T14:56:22.022888Z",
     "shell.execute_reply": "2021-11-07T14:56:22.023494Z",
     "shell.execute_reply.started": "2021-11-07T14:26:53.666696Z"
    },
    "papermill": {
     "duration": 0.034457,
     "end_time": "2021-11-07T14:56:22.023670",
     "exception": false,
     "start_time": "2021-11-07T14:56:21.989213",
     "status": "completed"
    },
    "tags": []
   },
   "outputs": [],
   "source": [
    "data = data.drop([\"Sex\",\"ChestPainType\",\"RestingECG\",\"ExerciseAngina\",\"ST_Slope\"],axis=1)"
   ]
  },
  {
   "cell_type": "markdown",
   "id": "823f745f",
   "metadata": {
    "papermill": {
     "duration": 0.026327,
     "end_time": "2021-11-07T14:56:22.076335",
     "exception": false,
     "start_time": "2021-11-07T14:56:22.050008",
     "status": "completed"
    },
    "tags": []
   },
   "source": [
    "It is well known that cholesterol levels can be divided into \"dangerous\", \"border\" and \"normal\" ranges. Therefore, we will create a new column for categorical data according to the numerical value."
   ]
  },
  {
   "cell_type": "code",
   "execution_count": 12,
   "id": "f4946f66",
   "metadata": {
    "execution": {
     "iopub.execute_input": "2021-11-07T14:56:22.131248Z",
     "iopub.status.busy": "2021-11-07T14:56:22.130468Z",
     "iopub.status.idle": "2021-11-07T14:56:22.548839Z",
     "shell.execute_reply": "2021-11-07T14:56:22.548197Z",
     "shell.execute_reply.started": "2021-11-07T14:26:53.675301Z"
    },
    "papermill": {
     "duration": 0.446885,
     "end_time": "2021-11-07T14:56:22.549047",
     "exception": false,
     "start_time": "2021-11-07T14:56:22.102162",
     "status": "completed"
    },
    "tags": []
   },
   "outputs": [
    {
     "name": "stderr",
     "output_type": "stream",
     "text": [
      "/opt/conda/lib/python3.7/site-packages/pandas/core/indexing.py:1732: SettingWithCopyWarning: \n",
      "A value is trying to be set on a copy of a slice from a DataFrame\n",
      "\n",
      "See the caveats in the documentation: https://pandas.pydata.org/pandas-docs/stable/user_guide/indexing.html#returning-a-view-versus-a-copy\n",
      "  self._setitem_single_block(indexer, value, name)\n"
     ]
    }
   ],
   "source": [
    "data[\"normal_chol\"] = 0\n",
    "data[\"border_chol\"] = 0\n",
    "data[\"dangerous_chol\"] = 0\n",
    "\n",
    "for i in range(len(data.index)):\n",
    "    if (data.Cholesterol.iloc[i] <= 239) and (data.Cholesterol.iloc[i] >=200):\n",
    "        data[\"border_chol\"].iloc[i] = 1\n",
    "    elif (data.Cholesterol.iloc[i] < 200):\n",
    "        data[\"normal_chol\"].iloc[i] =1\n",
    "    else:\n",
    "        data[\"dangerous_chol\"].iloc[i] = 1        "
   ]
  },
  {
   "cell_type": "markdown",
   "id": "ded2c68a",
   "metadata": {
    "papermill": {
     "duration": 0.025728,
     "end_time": "2021-11-07T14:56:22.601157",
     "exception": false,
     "start_time": "2021-11-07T14:56:22.575429",
     "status": "completed"
    },
    "tags": []
   },
   "source": [
    "Ok, let's look at the data at this point."
   ]
  },
  {
   "cell_type": "code",
   "execution_count": 13,
   "id": "ba82d80f",
   "metadata": {
    "execution": {
     "iopub.execute_input": "2021-11-07T14:56:22.661796Z",
     "iopub.status.busy": "2021-11-07T14:56:22.661138Z",
     "iopub.status.idle": "2021-11-07T14:56:22.682942Z",
     "shell.execute_reply": "2021-11-07T14:56:22.682305Z",
     "shell.execute_reply.started": "2021-11-07T14:26:54.052516Z"
    },
    "papermill": {
     "duration": 0.055258,
     "end_time": "2021-11-07T14:56:22.683094",
     "exception": false,
     "start_time": "2021-11-07T14:56:22.627836",
     "status": "completed"
    },
    "tags": []
   },
   "outputs": [
    {
     "data": {
      "text/html": [
       "<div>\n",
       "<style scoped>\n",
       "    .dataframe tbody tr th:only-of-type {\n",
       "        vertical-align: middle;\n",
       "    }\n",
       "\n",
       "    .dataframe tbody tr th {\n",
       "        vertical-align: top;\n",
       "    }\n",
       "\n",
       "    .dataframe thead th {\n",
       "        text-align: right;\n",
       "    }\n",
       "</style>\n",
       "<table border=\"1\" class=\"dataframe\">\n",
       "  <thead>\n",
       "    <tr style=\"text-align: right;\">\n",
       "      <th></th>\n",
       "      <th>Age</th>\n",
       "      <th>RestingBP</th>\n",
       "      <th>Cholesterol</th>\n",
       "      <th>FastingBS</th>\n",
       "      <th>MaxHR</th>\n",
       "      <th>Oldpeak</th>\n",
       "      <th>Sex_F</th>\n",
       "      <th>Sex_M</th>\n",
       "      <th>CPT_ASY</th>\n",
       "      <th>CPT_ATA</th>\n",
       "      <th>...</th>\n",
       "      <th>RECG_Normal</th>\n",
       "      <th>RECG_ST</th>\n",
       "      <th>EA_N</th>\n",
       "      <th>EA_Y</th>\n",
       "      <th>ST_S_Down</th>\n",
       "      <th>ST_S_Flat</th>\n",
       "      <th>ST_S_Up</th>\n",
       "      <th>normal_chol</th>\n",
       "      <th>border_chol</th>\n",
       "      <th>dangerous_chol</th>\n",
       "    </tr>\n",
       "  </thead>\n",
       "  <tbody>\n",
       "    <tr>\n",
       "      <th>0</th>\n",
       "      <td>40</td>\n",
       "      <td>140</td>\n",
       "      <td>289</td>\n",
       "      <td>0</td>\n",
       "      <td>172</td>\n",
       "      <td>0.0</td>\n",
       "      <td>0</td>\n",
       "      <td>1</td>\n",
       "      <td>0</td>\n",
       "      <td>1</td>\n",
       "      <td>...</td>\n",
       "      <td>1</td>\n",
       "      <td>0</td>\n",
       "      <td>1</td>\n",
       "      <td>0</td>\n",
       "      <td>0</td>\n",
       "      <td>0</td>\n",
       "      <td>1</td>\n",
       "      <td>0</td>\n",
       "      <td>0</td>\n",
       "      <td>1</td>\n",
       "    </tr>\n",
       "    <tr>\n",
       "      <th>1</th>\n",
       "      <td>49</td>\n",
       "      <td>160</td>\n",
       "      <td>180</td>\n",
       "      <td>0</td>\n",
       "      <td>156</td>\n",
       "      <td>1.0</td>\n",
       "      <td>1</td>\n",
       "      <td>0</td>\n",
       "      <td>0</td>\n",
       "      <td>0</td>\n",
       "      <td>...</td>\n",
       "      <td>1</td>\n",
       "      <td>0</td>\n",
       "      <td>1</td>\n",
       "      <td>0</td>\n",
       "      <td>0</td>\n",
       "      <td>1</td>\n",
       "      <td>0</td>\n",
       "      <td>1</td>\n",
       "      <td>0</td>\n",
       "      <td>0</td>\n",
       "    </tr>\n",
       "    <tr>\n",
       "      <th>2</th>\n",
       "      <td>37</td>\n",
       "      <td>130</td>\n",
       "      <td>283</td>\n",
       "      <td>0</td>\n",
       "      <td>98</td>\n",
       "      <td>0.0</td>\n",
       "      <td>0</td>\n",
       "      <td>1</td>\n",
       "      <td>0</td>\n",
       "      <td>1</td>\n",
       "      <td>...</td>\n",
       "      <td>0</td>\n",
       "      <td>1</td>\n",
       "      <td>1</td>\n",
       "      <td>0</td>\n",
       "      <td>0</td>\n",
       "      <td>0</td>\n",
       "      <td>1</td>\n",
       "      <td>0</td>\n",
       "      <td>0</td>\n",
       "      <td>1</td>\n",
       "    </tr>\n",
       "    <tr>\n",
       "      <th>3</th>\n",
       "      <td>48</td>\n",
       "      <td>138</td>\n",
       "      <td>214</td>\n",
       "      <td>0</td>\n",
       "      <td>108</td>\n",
       "      <td>1.5</td>\n",
       "      <td>1</td>\n",
       "      <td>0</td>\n",
       "      <td>1</td>\n",
       "      <td>0</td>\n",
       "      <td>...</td>\n",
       "      <td>1</td>\n",
       "      <td>0</td>\n",
       "      <td>0</td>\n",
       "      <td>1</td>\n",
       "      <td>0</td>\n",
       "      <td>1</td>\n",
       "      <td>0</td>\n",
       "      <td>0</td>\n",
       "      <td>1</td>\n",
       "      <td>0</td>\n",
       "    </tr>\n",
       "    <tr>\n",
       "      <th>4</th>\n",
       "      <td>54</td>\n",
       "      <td>150</td>\n",
       "      <td>195</td>\n",
       "      <td>0</td>\n",
       "      <td>122</td>\n",
       "      <td>0.0</td>\n",
       "      <td>0</td>\n",
       "      <td>1</td>\n",
       "      <td>0</td>\n",
       "      <td>0</td>\n",
       "      <td>...</td>\n",
       "      <td>1</td>\n",
       "      <td>0</td>\n",
       "      <td>1</td>\n",
       "      <td>0</td>\n",
       "      <td>0</td>\n",
       "      <td>0</td>\n",
       "      <td>1</td>\n",
       "      <td>1</td>\n",
       "      <td>0</td>\n",
       "      <td>0</td>\n",
       "    </tr>\n",
       "    <tr>\n",
       "      <th>...</th>\n",
       "      <td>...</td>\n",
       "      <td>...</td>\n",
       "      <td>...</td>\n",
       "      <td>...</td>\n",
       "      <td>...</td>\n",
       "      <td>...</td>\n",
       "      <td>...</td>\n",
       "      <td>...</td>\n",
       "      <td>...</td>\n",
       "      <td>...</td>\n",
       "      <td>...</td>\n",
       "      <td>...</td>\n",
       "      <td>...</td>\n",
       "      <td>...</td>\n",
       "      <td>...</td>\n",
       "      <td>...</td>\n",
       "      <td>...</td>\n",
       "      <td>...</td>\n",
       "      <td>...</td>\n",
       "      <td>...</td>\n",
       "      <td>...</td>\n",
       "    </tr>\n",
       "    <tr>\n",
       "      <th>913</th>\n",
       "      <td>45</td>\n",
       "      <td>110</td>\n",
       "      <td>264</td>\n",
       "      <td>0</td>\n",
       "      <td>132</td>\n",
       "      <td>1.2</td>\n",
       "      <td>0</td>\n",
       "      <td>1</td>\n",
       "      <td>0</td>\n",
       "      <td>0</td>\n",
       "      <td>...</td>\n",
       "      <td>1</td>\n",
       "      <td>0</td>\n",
       "      <td>1</td>\n",
       "      <td>0</td>\n",
       "      <td>0</td>\n",
       "      <td>1</td>\n",
       "      <td>0</td>\n",
       "      <td>0</td>\n",
       "      <td>0</td>\n",
       "      <td>1</td>\n",
       "    </tr>\n",
       "    <tr>\n",
       "      <th>914</th>\n",
       "      <td>68</td>\n",
       "      <td>144</td>\n",
       "      <td>193</td>\n",
       "      <td>1</td>\n",
       "      <td>141</td>\n",
       "      <td>3.4</td>\n",
       "      <td>0</td>\n",
       "      <td>1</td>\n",
       "      <td>1</td>\n",
       "      <td>0</td>\n",
       "      <td>...</td>\n",
       "      <td>1</td>\n",
       "      <td>0</td>\n",
       "      <td>1</td>\n",
       "      <td>0</td>\n",
       "      <td>0</td>\n",
       "      <td>1</td>\n",
       "      <td>0</td>\n",
       "      <td>1</td>\n",
       "      <td>0</td>\n",
       "      <td>0</td>\n",
       "    </tr>\n",
       "    <tr>\n",
       "      <th>915</th>\n",
       "      <td>57</td>\n",
       "      <td>130</td>\n",
       "      <td>131</td>\n",
       "      <td>0</td>\n",
       "      <td>115</td>\n",
       "      <td>1.2</td>\n",
       "      <td>0</td>\n",
       "      <td>1</td>\n",
       "      <td>1</td>\n",
       "      <td>0</td>\n",
       "      <td>...</td>\n",
       "      <td>1</td>\n",
       "      <td>0</td>\n",
       "      <td>0</td>\n",
       "      <td>1</td>\n",
       "      <td>0</td>\n",
       "      <td>1</td>\n",
       "      <td>0</td>\n",
       "      <td>1</td>\n",
       "      <td>0</td>\n",
       "      <td>0</td>\n",
       "    </tr>\n",
       "    <tr>\n",
       "      <th>916</th>\n",
       "      <td>57</td>\n",
       "      <td>130</td>\n",
       "      <td>236</td>\n",
       "      <td>0</td>\n",
       "      <td>174</td>\n",
       "      <td>0.0</td>\n",
       "      <td>1</td>\n",
       "      <td>0</td>\n",
       "      <td>0</td>\n",
       "      <td>1</td>\n",
       "      <td>...</td>\n",
       "      <td>0</td>\n",
       "      <td>0</td>\n",
       "      <td>1</td>\n",
       "      <td>0</td>\n",
       "      <td>0</td>\n",
       "      <td>1</td>\n",
       "      <td>0</td>\n",
       "      <td>0</td>\n",
       "      <td>1</td>\n",
       "      <td>0</td>\n",
       "    </tr>\n",
       "    <tr>\n",
       "      <th>917</th>\n",
       "      <td>38</td>\n",
       "      <td>138</td>\n",
       "      <td>175</td>\n",
       "      <td>0</td>\n",
       "      <td>173</td>\n",
       "      <td>0.0</td>\n",
       "      <td>0</td>\n",
       "      <td>1</td>\n",
       "      <td>0</td>\n",
       "      <td>0</td>\n",
       "      <td>...</td>\n",
       "      <td>1</td>\n",
       "      <td>0</td>\n",
       "      <td>1</td>\n",
       "      <td>0</td>\n",
       "      <td>0</td>\n",
       "      <td>0</td>\n",
       "      <td>1</td>\n",
       "      <td>1</td>\n",
       "      <td>0</td>\n",
       "      <td>0</td>\n",
       "    </tr>\n",
       "  </tbody>\n",
       "</table>\n",
       "<p>918 rows × 23 columns</p>\n",
       "</div>"
      ],
      "text/plain": [
       "     Age  RestingBP  Cholesterol  FastingBS  MaxHR  Oldpeak  Sex_F  Sex_M  \\\n",
       "0     40        140          289          0    172      0.0      0      1   \n",
       "1     49        160          180          0    156      1.0      1      0   \n",
       "2     37        130          283          0     98      0.0      0      1   \n",
       "3     48        138          214          0    108      1.5      1      0   \n",
       "4     54        150          195          0    122      0.0      0      1   \n",
       "..   ...        ...          ...        ...    ...      ...    ...    ...   \n",
       "913   45        110          264          0    132      1.2      0      1   \n",
       "914   68        144          193          1    141      3.4      0      1   \n",
       "915   57        130          131          0    115      1.2      0      1   \n",
       "916   57        130          236          0    174      0.0      1      0   \n",
       "917   38        138          175          0    173      0.0      0      1   \n",
       "\n",
       "     CPT_ASY  CPT_ATA  ...  RECG_Normal  RECG_ST  EA_N  EA_Y  ST_S_Down  \\\n",
       "0          0        1  ...            1        0     1     0          0   \n",
       "1          0        0  ...            1        0     1     0          0   \n",
       "2          0        1  ...            0        1     1     0          0   \n",
       "3          1        0  ...            1        0     0     1          0   \n",
       "4          0        0  ...            1        0     1     0          0   \n",
       "..       ...      ...  ...          ...      ...   ...   ...        ...   \n",
       "913        0        0  ...            1        0     1     0          0   \n",
       "914        1        0  ...            1        0     1     0          0   \n",
       "915        1        0  ...            1        0     0     1          0   \n",
       "916        0        1  ...            0        0     1     0          0   \n",
       "917        0        0  ...            1        0     1     0          0   \n",
       "\n",
       "     ST_S_Flat  ST_S_Up  normal_chol  border_chol  dangerous_chol  \n",
       "0            0        1            0            0               1  \n",
       "1            1        0            1            0               0  \n",
       "2            0        1            0            0               1  \n",
       "3            1        0            0            1               0  \n",
       "4            0        1            1            0               0  \n",
       "..         ...      ...          ...          ...             ...  \n",
       "913          1        0            0            0               1  \n",
       "914          1        0            1            0               0  \n",
       "915          1        0            1            0               0  \n",
       "916          1        0            0            1               0  \n",
       "917          0        1            1            0               0  \n",
       "\n",
       "[918 rows x 23 columns]"
      ]
     },
     "execution_count": 13,
     "metadata": {},
     "output_type": "execute_result"
    }
   ],
   "source": [
    "data"
   ]
  },
  {
   "cell_type": "markdown",
   "id": "3c508388",
   "metadata": {
    "papermill": {
     "duration": 0.026383,
     "end_time": "2021-11-07T14:56:22.736939",
     "exception": false,
     "start_time": "2021-11-07T14:56:22.710556",
     "status": "completed"
    },
    "tags": []
   },
   "source": [
    "# Training and Predicting"
   ]
  },
  {
   "cell_type": "markdown",
   "id": "2b48c5d8",
   "metadata": {
    "papermill": {
     "duration": 0.026373,
     "end_time": "2021-11-07T14:56:22.790062",
     "exception": false,
     "start_time": "2021-11-07T14:56:22.763689",
     "status": "completed"
    },
    "tags": []
   },
   "source": [
    "In this time, I would like to use \"Voting Clasifier\" by using \"Random Forest Regression\",\"Extra Trees Regression\" ,\"Liner SVC\" and \"Neural Network\" to try to predict heart failure.I hope it works :D\n",
    "\n",
    "First of all, we will split the data into training and test data."
   ]
  },
  {
   "cell_type": "code",
   "execution_count": 14,
   "id": "af21ebe4",
   "metadata": {
    "execution": {
     "iopub.execute_input": "2021-11-07T14:56:22.849279Z",
     "iopub.status.busy": "2021-11-07T14:56:22.848528Z",
     "iopub.status.idle": "2021-11-07T14:56:23.849602Z",
     "shell.execute_reply": "2021-11-07T14:56:23.849009Z",
     "shell.execute_reply.started": "2021-11-07T14:26:54.079099Z"
    },
    "papermill": {
     "duration": 1.032766,
     "end_time": "2021-11-07T14:56:23.849743",
     "exception": false,
     "start_time": "2021-11-07T14:56:22.816977",
     "status": "completed"
    },
    "tags": []
   },
   "outputs": [],
   "source": [
    "from sklearn.model_selection import train_test_split\n",
    "\n",
    "X_train,X_test,y_train,y_test = train_test_split(data,target,random_state=42,test_size=0.3)"
   ]
  },
  {
   "cell_type": "markdown",
   "id": "994479ff",
   "metadata": {
    "papermill": {
     "duration": 0.026666,
     "end_time": "2021-11-07T14:56:23.905030",
     "exception": false,
     "start_time": "2021-11-07T14:56:23.878364",
     "status": "completed"
    },
    "tags": []
   },
   "source": [
    "Let's import the libraries we need."
   ]
  },
  {
   "cell_type": "code",
   "execution_count": 15,
   "id": "bf15c387",
   "metadata": {
    "execution": {
     "iopub.execute_input": "2021-11-07T14:56:23.965781Z",
     "iopub.status.busy": "2021-11-07T14:56:23.964946Z",
     "iopub.status.idle": "2021-11-07T14:56:24.279001Z",
     "shell.execute_reply": "2021-11-07T14:56:24.278261Z",
     "shell.execute_reply.started": "2021-11-07T14:26:54.087139Z"
    },
    "papermill": {
     "duration": 0.34713,
     "end_time": "2021-11-07T14:56:24.279151",
     "exception": false,
     "start_time": "2021-11-07T14:56:23.932021",
     "status": "completed"
    },
    "tags": []
   },
   "outputs": [],
   "source": [
    "from sklearn.ensemble import RandomForestClassifier,ExtraTreesClassifier\n",
    "from sklearn.svm import SVC\n",
    "from sklearn.neural_network import MLPClassifier\n",
    "\n",
    "rnd_clf = RandomForestClassifier(n_estimators=100,random_state=42)\n",
    "extra_trees_clf = ExtraTreesClassifier(n_estimators=100,random_state=42)\n",
    "svm_clf = SVC(max_iter=100,tol=20,random_state=42)\n",
    "mlp_clf = MLPClassifier(random_state=42)"
   ]
  },
  {
   "cell_type": "code",
   "execution_count": 16,
   "id": "f705ef58",
   "metadata": {
    "execution": {
     "iopub.execute_input": "2021-11-07T14:56:24.339776Z",
     "iopub.status.busy": "2021-11-07T14:56:24.339079Z",
     "iopub.status.idle": "2021-11-07T14:56:25.637187Z",
     "shell.execute_reply": "2021-11-07T14:56:25.638137Z",
     "shell.execute_reply.started": "2021-11-07T14:26:54.098936Z"
    },
    "papermill": {
     "duration": 1.332149,
     "end_time": "2021-11-07T14:56:25.638430",
     "exception": false,
     "start_time": "2021-11-07T14:56:24.306281",
     "status": "completed"
    },
    "tags": []
   },
   "outputs": [
    {
     "name": "stdout",
     "output_type": "stream",
     "text": [
      "Training the RandomForestClassifier(random_state=42)\n",
      "Training the ExtraTreesClassifier(random_state=42)\n",
      "Training the SVC(max_iter=100, random_state=42, tol=20)\n",
      "Training the MLPClassifier(random_state=42)\n"
     ]
    }
   ],
   "source": [
    "estimators = [rnd_clf,extra_trees_clf,svm_clf,mlp_clf]\n",
    "\n",
    "for estimator in estimators:\n",
    "    print(\"Training the\", estimator)\n",
    "    estimator.fit(X_train,y_train)"
   ]
  },
  {
   "cell_type": "markdown",
   "id": "2f0f9c8c",
   "metadata": {
    "execution": {
     "iopub.execute_input": "2021-11-07T14:04:23.166252Z",
     "iopub.status.busy": "2021-11-07T14:04:23.165963Z",
     "iopub.status.idle": "2021-11-07T14:04:23.213046Z",
     "shell.execute_reply": "2021-11-07T14:04:23.212275Z",
     "shell.execute_reply.started": "2021-11-07T14:04:23.166219Z"
    },
    "papermill": {
     "duration": 0.050312,
     "end_time": "2021-11-07T14:56:25.740037",
     "exception": false,
     "start_time": "2021-11-07T14:56:25.689725",
     "status": "completed"
    },
    "tags": []
   },
   "source": [
    "estimator_results = [estimator.score(X_test,y_test) for estimator in estimators]\n",
    "print(estimator_results)"
   ]
  },
  {
   "cell_type": "markdown",
   "id": "97615fc5",
   "metadata": {
    "papermill": {
     "duration": 0.027011,
     "end_time": "2021-11-07T14:56:25.800442",
     "exception": false,
     "start_time": "2021-11-07T14:56:25.773431",
     "status": "completed"
    },
    "tags": []
   },
   "source": [
    "# Voting method"
   ]
  },
  {
   "cell_type": "markdown",
   "id": "6e9ce1d7",
   "metadata": {
    "papermill": {
     "duration": 0.027355,
     "end_time": "2021-11-07T14:56:25.855688",
     "exception": false,
     "start_time": "2021-11-07T14:56:25.828333",
     "status": "completed"
    },
    "tags": []
   },
   "source": [
    "Prediction using Random Forest seems to be the best. On the other hand, SVM looks pretty poor.\n",
    "\n",
    "Let's take a look at the results of letting them vote."
   ]
  },
  {
   "cell_type": "code",
   "execution_count": 17,
   "id": "59351b15",
   "metadata": {
    "execution": {
     "iopub.execute_input": "2021-11-07T14:56:25.916438Z",
     "iopub.status.busy": "2021-11-07T14:56:25.915661Z",
     "iopub.status.idle": "2021-11-07T14:56:25.917134Z",
     "shell.execute_reply": "2021-11-07T14:56:25.917621Z",
     "shell.execute_reply.started": "2021-11-07T14:26:55.367395Z"
    },
    "papermill": {
     "duration": 0.034853,
     "end_time": "2021-11-07T14:56:25.917794",
     "exception": false,
     "start_time": "2021-11-07T14:56:25.882941",
     "status": "completed"
    },
    "tags": []
   },
   "outputs": [],
   "source": [
    "from sklearn.ensemble import VotingClassifier\n",
    "\n",
    "named_estimators = [\n",
    "    (\"random_forest_clf\",rnd_clf),\n",
    "    (\"Extra_trees_clf\",extra_trees_clf),\n",
    "    (\"SVM\",svm_clf),\n",
    "    (\"MLP\",mlp_clf)\n",
    "]\n",
    "\n",
    "voting_clf = VotingClassifier(named_estimators)"
   ]
  },
  {
   "cell_type": "code",
   "execution_count": 18,
   "id": "001578fc",
   "metadata": {
    "execution": {
     "iopub.execute_input": "2021-11-07T14:56:25.982211Z",
     "iopub.status.busy": "2021-11-07T14:56:25.981236Z",
     "iopub.status.idle": "2021-11-07T14:56:27.326595Z",
     "shell.execute_reply": "2021-11-07T14:56:27.327772Z",
     "shell.execute_reply.started": "2021-11-07T14:26:55.375919Z"
    },
    "papermill": {
     "duration": 1.382293,
     "end_time": "2021-11-07T14:56:27.328080",
     "exception": false,
     "start_time": "2021-11-07T14:56:25.945787",
     "status": "completed"
    },
    "tags": []
   },
   "outputs": [
    {
     "data": {
      "text/plain": [
       "VotingClassifier(estimators=[('random_forest_clf',\n",
       "                              RandomForestClassifier(random_state=42)),\n",
       "                             ('Extra_trees_clf',\n",
       "                              ExtraTreesClassifier(random_state=42)),\n",
       "                             ('SVM',\n",
       "                              SVC(max_iter=100, random_state=42, tol=20)),\n",
       "                             ('MLP', MLPClassifier(random_state=42))])"
      ]
     },
     "execution_count": 18,
     "metadata": {},
     "output_type": "execute_result"
    }
   ],
   "source": [
    "voting_clf.fit(X_train,y_train)"
   ]
  },
  {
   "cell_type": "code",
   "execution_count": 19,
   "id": "fcc5ffa3",
   "metadata": {
    "execution": {
     "iopub.execute_input": "2021-11-07T14:56:27.434208Z",
     "iopub.status.busy": "2021-11-07T14:56:27.433491Z",
     "iopub.status.idle": "2021-11-07T14:56:27.490926Z",
     "shell.execute_reply": "2021-11-07T14:56:27.489280Z",
     "shell.execute_reply.started": "2021-11-07T14:26:56.695856Z"
    },
    "papermill": {
     "duration": 0.111566,
     "end_time": "2021-11-07T14:56:27.491227",
     "exception": false,
     "start_time": "2021-11-07T14:56:27.379661",
     "status": "completed"
    },
    "tags": []
   },
   "outputs": [
    {
     "data": {
      "text/plain": [
       "0.894927536231884"
      ]
     },
     "execution_count": 19,
     "metadata": {},
     "output_type": "execute_result"
    }
   ],
   "source": [
    "voting_clf.score(X_test,y_test)"
   ]
  },
  {
   "cell_type": "markdown",
   "id": "5f0f00f1",
   "metadata": {
    "papermill": {
     "duration": 0.048746,
     "end_time": "2021-11-07T14:56:27.597060",
     "exception": false,
     "start_time": "2021-11-07T14:56:27.548314",
     "status": "completed"
    },
    "tags": []
   },
   "source": [
    "# Sumarry\n",
    "We checked basic data preprocessing methods, the implementation of well-known techniques, and the improvement of prediction accuracy through voting. Thank you."
   ]
  },
  {
   "cell_type": "markdown",
   "id": "51399b3d",
   "metadata": {
    "papermill": {
     "duration": 0.028129,
     "end_time": "2021-11-07T14:56:27.653326",
     "exception": false,
     "start_time": "2021-11-07T14:56:27.625197",
     "status": "completed"
    },
    "tags": []
   },
   "source": []
  }
 ],
 "metadata": {
  "kernelspec": {
   "display_name": "Python 3",
   "language": "python",
   "name": "python3"
  },
  "language_info": {
   "codemirror_mode": {
    "name": "ipython",
    "version": 3
   },
   "file_extension": ".py",
   "mimetype": "text/x-python",
   "name": "python",
   "nbconvert_exporter": "python",
   "pygments_lexer": "ipython3",
   "version": "3.7.10"
  },
  "papermill": {
   "default_parameters": {},
   "duration": 16.810235,
   "end_time": "2021-11-07T14:56:28.392728",
   "environment_variables": {},
   "exception": null,
   "input_path": "__notebook__.ipynb",
   "output_path": "__notebook__.ipynb",
   "parameters": {},
   "start_time": "2021-11-07T14:56:11.582493",
   "version": "2.3.3"
  }
 },
 "nbformat": 4,
 "nbformat_minor": 5
}
